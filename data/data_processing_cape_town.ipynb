{
 "cells": [
  {
   "cell_type": "markdown",
   "metadata": {},
   "source": [
    "The goal of this notebook is to create a geodaframe containing information about each solar panel annotation. This dataframe will be useful in creating image mask pairs of tiles of the Cape Town geotiff images. The code to create the geodataframe and the image make pairs is available in this notebook.   "
   ]
  },
  {
   "cell_type": "code",
   "execution_count": 2,
   "metadata": {},
   "outputs": [],
   "source": [
    "# import necessary packages\n",
    "import json\n",
    "import pandas as pd\n",
    "import geopandas as gpd\n",
    "import os\n",
    "import numpy as np\n",
    "import rasterio\n",
    "import ast\n",
    "import cv2\n",
    "import re\n",
    "import shutil\n",
    "import random\n",
    "from rasterio.transform import rowcol\n",
    "from rasterio.windows import Window\n",
    "from shapely.geometry import Polygon\n",
    "from shapely.geometry import shape\n",
    "from shapely.geometry import box\n",
    "from collections import namedtuple\n",
    "from tqdm import tqdm\n",
    "from PIL import Image"
   ]
  },
  {
   "cell_type": "code",
   "execution_count": null,
   "metadata": {},
   "outputs": [
    {
     "name": "stderr",
     "output_type": "stream",
     "text": [
      "c:\\Users\\AICHA\\miniconda3\\envs\\solar\\lib\\site-packages\\openpyxl\\worksheet\\_reader.py:329: UserWarning: Conditional Formatting extension is not supported and will be removed\n",
      "  warn(msg)\n"
     ]
    },
    {
     "data": {
      "text/html": [
       "<div>\n",
       "<style scoped>\n",
       "    .dataframe tbody tr th:only-of-type {\n",
       "        vertical-align: middle;\n",
       "    }\n",
       "\n",
       "    .dataframe tbody tr th {\n",
       "        vertical-align: top;\n",
       "    }\n",
       "\n",
       "    .dataframe thead th {\n",
       "        text-align: right;\n",
       "    }\n",
       "</style>\n",
       "<table border=\"1\" class=\"dataframe\">\n",
       "  <thead>\n",
       "    <tr style=\"text-align: right;\">\n",
       "      <th></th>\n",
       "      <th>Image ID</th>\n",
       "      <th>Annotator</th>\n",
       "    </tr>\n",
       "  </thead>\n",
       "  <tbody>\n",
       "    <tr>\n",
       "      <th>56</th>\n",
       "      <td>W07A_1</td>\n",
       "      <td>Gary Alvarez Mejia</td>\n",
       "    </tr>\n",
       "    <tr>\n",
       "      <th>63</th>\n",
       "      <td>W07A_16</td>\n",
       "      <td>Abby Finkle</td>\n",
       "    </tr>\n",
       "    <tr>\n",
       "      <th>72</th>\n",
       "      <td>W07A_24</td>\n",
       "      <td>Vanshika Mittal</td>\n",
       "    </tr>\n",
       "    <tr>\n",
       "      <th>106</th>\n",
       "      <td>W07C_10</td>\n",
       "      <td>Biz Yoder</td>\n",
       "    </tr>\n",
       "    <tr>\n",
       "      <th>107</th>\n",
       "      <td>W07C_11</td>\n",
       "      <td>Biz Yoder</td>\n",
       "    </tr>\n",
       "    <tr>\n",
       "      <th>...</th>\n",
       "      <td>...</td>\n",
       "      <td>...</td>\n",
       "    </tr>\n",
       "    <tr>\n",
       "      <th>2563</th>\n",
       "      <td>W57C_3</td>\n",
       "      <td>Fiona Bolte-Bradhurst</td>\n",
       "    </tr>\n",
       "    <tr>\n",
       "      <th>2564</th>\n",
       "      <td>W57C_4</td>\n",
       "      <td>Fiona Bolte-Bradhurst</td>\n",
       "    </tr>\n",
       "    <tr>\n",
       "      <th>2565</th>\n",
       "      <td>W57C_5</td>\n",
       "      <td>Fiona Bolte-Bradhurst</td>\n",
       "    </tr>\n",
       "    <tr>\n",
       "      <th>2568</th>\n",
       "      <td>W57C_8</td>\n",
       "      <td>Fiona Bolte-Bradhurst</td>\n",
       "    </tr>\n",
       "    <tr>\n",
       "      <th>2569</th>\n",
       "      <td>W57C_9</td>\n",
       "      <td>Fiona Bolte-Bradhurst</td>\n",
       "    </tr>\n",
       "  </tbody>\n",
       "</table>\n",
       "<p>215 rows × 2 columns</p>\n",
       "</div>"
      ],
      "text/plain": [
       "     Image ID              Annotator\n",
       "56     W07A_1     Gary Alvarez Mejia\n",
       "63    W07A_16            Abby Finkle\n",
       "72    W07A_24        Vanshika Mittal\n",
       "106   W07C_10              Biz Yoder\n",
       "107   W07C_11              Biz Yoder\n",
       "...       ...                    ...\n",
       "2563   W57C_3  Fiona Bolte-Bradhurst\n",
       "2564   W57C_4  Fiona Bolte-Bradhurst\n",
       "2565   W57C_5  Fiona Bolte-Bradhurst\n",
       "2568   W57C_8  Fiona Bolte-Bradhurst\n",
       "2569   W57C_9  Fiona Bolte-Bradhurst\n",
       "\n",
       "[215 rows x 2 columns]"
      ]
     },
     "execution_count": 10,
     "metadata": {},
     "output_type": "execute_result"
    }
   ],
   "source": [
    "# Determine the images that have been annotated\n",
    "status = pd.read_excel(r\"C:\\Users\\AICHA\\Box\\Cape Town Energy Transitions Bass Connections\\Class Materials 2024-2025\\Aerial Imagery\\CapeTown_ImageIDs.xlsx\")\n",
    "completed = status[status[\"Status\"]=='Completed']\n",
    "completed = completed[['Image ID', 'Annotator']]\n",
    "completed"
   ]
  },
  {
   "cell_type": "markdown",
   "metadata": {},
   "source": [
    "There are 2807 images of Cape Town in total. \n",
    "As of Nov 29, there 544 completed images, including those that have no solar panel annotation. 151 geotiff images have annotations.\n",
    "As of Fev 1st, there 731 completed images, including those that have no solar panel annotation. 251 geotiff images have annotations."
   ]
  },
  {
   "cell_type": "code",
   "execution_count": 11,
   "metadata": {},
   "outputs": [
    {
     "data": {
      "text/plain": [
       "array(['Gary Alvarez Mejia', 'Abby Finkle', 'Vanshika Mittal',\n",
       "       'Biz Yoder', 'Zeinab Mukhtar', 'Shehr Naz Ashraf', 'Ye Khaung Oo',\n",
       "       'Veena Shirsath', 'Brian Mulu Mutua', 'Halle Evans',\n",
       "       'Ummamah Shah', 'Fiona Bolte-Bradhurst'], dtype=object)"
      ]
     },
     "execution_count": 11,
     "metadata": {},
     "output_type": "execute_result"
    }
   ],
   "source": [
    "completed['Annotator'].unique()"
   ]
  },
  {
   "cell_type": "markdown",
   "metadata": {},
   "source": [
    "Abby Finkle has only one completed image. Gary Alvarez Mejia has two.\n",
    "\n",
    "I couldn't find Abby Finkle's annotations layer. Veena didn't upload an annotations layer."
   ]
  },
  {
   "cell_type": "code",
   "execution_count": null,
   "metadata": {},
   "outputs": [],
   "source": [
    "# Filter completed annotations\n",
    "selected_annotators = ['Gary Alvarez Mejia', 'Abby Finkle', 'Vanshika Mittal',\n",
    "       'Biz Yoder', 'Zeinab Mukhtar', 'Shehr Naz Ashraf', 'Ye Khaung Oo',\n",
    "       'Veena Shirsath', 'Brian Mulu Mutua', 'Halle Evans',\n",
    "       'Ummamah Shah', 'Fiona Bolte-Bradhurst']\n",
    "filtered_completed_df = completed[completed['Annotator'].isin(selected_annotators)]\n",
    "\n",
    "# Map annotator names to keys\n",
    "key_mapping = {\n",
    "    'Biz Yoder': 'biz',\n",
    "    'Brian Mulu Mutua': 'mutua',\n",
    "    'Fiona Bolte-Bradhurst': 'fiona',\n",
    "    'Ummamah Shah': 'shah',\n",
    "    'Ye Khaung Oo': 'ye',\n",
    "    'Gary Alvarez Mejia': 'mejia',\n",
    "    'Vanshika Mittal': 'mittal',\n",
    "    'Zeinab Mukhtar': 'mukhtar',\n",
    "    'Shehr Naz Ashraf': 'shehr',\n",
    "    'Halle Evans': 'evans'\n",
    "}\n",
    "\n",
    "# Set file paths\n",
    "file_paths = {\n",
    "    'biz': r\"C:\\Users\\AICHA\\Box\\Cape Town Energy Transitions Bass Connections\\Class Materials 2024-2025\\Aerial Imagery\\Annotation layers\\Biz Yoder\\yoder_annotations 0128_v2.shp\",\n",
    "    'mutua': r\"C:\\Users\\AICHA\\Box\\Cape Town Energy Transitions Bass Connections\\Class Materials 2024-2025\\Aerial Imagery\\Annotation layers\\Brian Mulu Mutua\\mutua_annotations 1027.shp\",\n",
    "    'fiona': r\"C:\\Users\\AICHA\\Box\\Cape Town Energy Transitions Bass Connections\\Class Materials 2024-2025\\Aerial Imagery\\Annotation layers\\Fiona Bolte-Bradhurst\\1.31\\bolte.bradhurst_annotations_1.31.shp\",\n",
    "    'shah': r\"C:\\Users\\AICHA\\Box\\Cape Town Energy Transitions Bass Connections\\Class Materials 2024-2025\\Aerial Imagery\\Annotation layers\\Ummamah Shah\\Shah_30.shp\",\n",
    "    'ye': r\"C:\\Users\\AICHA\\Box\\Cape Town Energy Transitions Bass Connections\\Class Materials 2024-2025\\Aerial Imagery\\Annotation layers\\Ye Khaung Oo\\Ye_annotations.shp\",\n",
    "    'mejia': r\"C:\\Users\\AICHA\\Box\\Cape Town Energy Transitions Bass Connections\\Class Materials 2024-2025\\Aerial Imagery\\Annotation layers\\Gary Alvarez Mejia\\11-13\\alvarezmejia_annotations.shp\",\n",
    "    'mittal': r\"C:\\Users\\AICHA\\Box\\Cape Town Energy Transitions Bass Connections\\Class Materials 2024-2025\\Aerial Imagery\\Annotation layers\\Vanshika Mittal\\Mittal_annotations.shp\",\n",
    "    'mukhtar': r\"C:\\Users\\AICHA\\Box\\Cape Town Energy Transitions Bass Connections\\Class Materials 2024-2025\\Aerial Imagery\\Annotation layers\\Zeinab Mukhtar\\mostupdated\\mukhtar_annotations_dec5.shp\",\n",
    "    'shehr': r\"C:\\Users\\AICHA\\Box\\Cape Town Energy Transitions Bass Connections\\Class Materials 2024-2025\\Aerial Imagery\\Annotation layers\\Shehr Naz Ashraf\\ashraf_annotations.shp\",\n",
    "    'evans': r\"C:\\Users\\AICHA\\Box\\Cape Town Energy Transitions Bass Connections\\Class Materials 2024-2025\\Aerial Imagery\\Annotation layers\\Halle Evans\\evans_annotations_layer.shp\"\n",
    "}\n",
    "\n",
    "\n",
    "annotator_image_ids = filtered_completed_df.groupby('Annotator')['Image ID'].apply(list).to_dict()\n",
    "annotator_image_ids = {key_mapping[old_key]: value for old_key, value in annotator_image_ids.items()}"
   ]
  },
  {
   "cell_type": "code",
   "execution_count": null,
   "metadata": {},
   "outputs": [],
   "source": [
    "# Extract the CRS of the images. This will be used to reproject the annotations layers to this CRS to avoid any inconsistencies.\n",
    "input_tif = r\"C:\\Users\\AICHA\\Box\\Cape Town Energy Transitions Bass Connections\\Class Materials 2024-2025\\Aerial Imagery\\AP2023_TIFFs_Bass\\2023_RGB_8cm_W18B_5.tif\"\n",
    "with rasterio.open(input_tif) as dataset:\n",
    "    geotif_crs = dataset.crs\n",
    "\n",
    "# Clean the annotation layers be removing those marked as PV pool and PV heater\n",
    "def clean_annotation_layers(layer):\n",
    "    copy = layer\n",
    "    copy = copy.to_crs(geotif_crs)\n",
    "    copy['area'] = copy.geometry.area\n",
    "    \n",
    "    # remove annotations tagged as PV pool and PV heater\n",
    "    if 'PV_Pool' in copy.columns:\n",
    "        copy = copy[copy['PV_Pool'] != 1]\n",
    "\n",
    "    if 'PV_pool' in copy.columns:\n",
    "        copy = copy[copy['PV_pool'] != 1]\n",
    "\n",
    "    if 'PV_heater' in copy.columns:\n",
    "        copy = copy[copy['PV_heater'] != 1]\n",
    "    \n",
    "    columns_to_drop = ['layer', 'path', 'PV_heater', 'uncertflag', 'PV_Pool', 'PV_pool']\n",
    "    copy = copy.drop([col for col in columns_to_drop if col in copy.columns], axis=1) \n",
    "    \n",
    "    copy.reset_index(drop=True, inplace=True)       \n",
    "    \n",
    "    return copy"
   ]
  },
  {
   "cell_type": "code",
   "execution_count": null,
   "metadata": {},
   "outputs": [
    {
     "data": {
      "text/html": [
       "<div>\n",
       "<style scoped>\n",
       "    .dataframe tbody tr th:only-of-type {\n",
       "        vertical-align: middle;\n",
       "    }\n",
       "\n",
       "    .dataframe tbody tr th {\n",
       "        vertical-align: top;\n",
       "    }\n",
       "\n",
       "    .dataframe thead th {\n",
       "        text-align: right;\n",
       "    }\n",
       "</style>\n",
       "<table border=\"1\" class=\"dataframe\">\n",
       "  <thead>\n",
       "    <tr style=\"text-align: right;\">\n",
       "      <th></th>\n",
       "      <th>id</th>\n",
       "      <th>area</th>\n",
       "      <th>geometry</th>\n",
       "      <th>annotator</th>\n",
       "      <th>centroid_latitude</th>\n",
       "      <th>centroid_longitude</th>\n",
       "      <th>image_name</th>\n",
       "      <th>nw_corner_of_image_latitude</th>\n",
       "      <th>nw_corner_of_image_longitude</th>\n",
       "      <th>se_corner_of_image_latitude</th>\n",
       "      <th>se_corner_of_image_longitude</th>\n",
       "    </tr>\n",
       "  </thead>\n",
       "  <tbody>\n",
       "    <tr>\n",
       "      <th>0</th>\n",
       "      <td>0</td>\n",
       "      <td>23.162657</td>\n",
       "      <td>POLYGON ((-19993.55 -3769759.6, -19988.801 -37...</td>\n",
       "      <td>biz</td>\n",
       "      <td>-3.769763e+06</td>\n",
       "      <td>-19991.996891</td>\n",
       "      <td>None</td>\n",
       "      <td>None</td>\n",
       "      <td>None</td>\n",
       "      <td>None</td>\n",
       "      <td>None</td>\n",
       "    </tr>\n",
       "    <tr>\n",
       "      <th>1</th>\n",
       "      <td>1</td>\n",
       "      <td>8.567160</td>\n",
       "      <td>POLYGON ((-13352.818 -3768899.929, -13345.695 ...</td>\n",
       "      <td>biz</td>\n",
       "      <td>-3.768902e+06</td>\n",
       "      <td>-13349.578806</td>\n",
       "      <td>None</td>\n",
       "      <td>None</td>\n",
       "      <td>None</td>\n",
       "      <td>None</td>\n",
       "      <td>None</td>\n",
       "    </tr>\n",
       "    <tr>\n",
       "      <th>2</th>\n",
       "      <td>2</td>\n",
       "      <td>9.287182</td>\n",
       "      <td>POLYGON ((-13353.655 -3768901.389, -13346.512 ...</td>\n",
       "      <td>biz</td>\n",
       "      <td>-3.768904e+06</td>\n",
       "      <td>-13350.422909</td>\n",
       "      <td>None</td>\n",
       "      <td>None</td>\n",
       "      <td>None</td>\n",
       "      <td>None</td>\n",
       "      <td>None</td>\n",
       "    </tr>\n",
       "    <tr>\n",
       "      <th>3</th>\n",
       "      <td>3</td>\n",
       "      <td>8.580228</td>\n",
       "      <td>POLYGON ((-13354.608 -3768903.024, -13347.583 ...</td>\n",
       "      <td>biz</td>\n",
       "      <td>-3.768906e+06</td>\n",
       "      <td>-13351.395241</td>\n",
       "      <td>None</td>\n",
       "      <td>None</td>\n",
       "      <td>None</td>\n",
       "      <td>None</td>\n",
       "      <td>None</td>\n",
       "    </tr>\n",
       "    <tr>\n",
       "      <th>4</th>\n",
       "      <td>4</td>\n",
       "      <td>10.808848</td>\n",
       "      <td>POLYGON ((-13354.102 -3768907.616, -13353.441 ...</td>\n",
       "      <td>biz</td>\n",
       "      <td>-3.768910e+06</td>\n",
       "      <td>-13351.308980</td>\n",
       "      <td>None</td>\n",
       "      <td>None</td>\n",
       "      <td>None</td>\n",
       "      <td>None</td>\n",
       "      <td>None</td>\n",
       "    </tr>\n",
       "    <tr>\n",
       "      <th>...</th>\n",
       "      <td>...</td>\n",
       "      <td>...</td>\n",
       "      <td>...</td>\n",
       "      <td>...</td>\n",
       "      <td>...</td>\n",
       "      <td>...</td>\n",
       "      <td>...</td>\n",
       "      <td>...</td>\n",
       "      <td>...</td>\n",
       "      <td>...</td>\n",
       "      <td>...</td>\n",
       "    </tr>\n",
       "    <tr>\n",
       "      <th>19908</th>\n",
       "      <td>19908</td>\n",
       "      <td>4.039285</td>\n",
       "      <td>POLYGON ((-33704.692 -3760339.71, -33701.724 -...</td>\n",
       "      <td>evans</td>\n",
       "      <td>-3.760340e+06</td>\n",
       "      <td>-33703.292947</td>\n",
       "      <td>None</td>\n",
       "      <td>None</td>\n",
       "      <td>None</td>\n",
       "      <td>None</td>\n",
       "      <td>None</td>\n",
       "    </tr>\n",
       "    <tr>\n",
       "      <th>19909</th>\n",
       "      <td>19909</td>\n",
       "      <td>2.332195</td>\n",
       "      <td>POLYGON ((-33661.945 -3760112.949, -33660.812 ...</td>\n",
       "      <td>evans</td>\n",
       "      <td>-3.760114e+06</td>\n",
       "      <td>-33661.385134</td>\n",
       "      <td>None</td>\n",
       "      <td>None</td>\n",
       "      <td>None</td>\n",
       "      <td>None</td>\n",
       "      <td>None</td>\n",
       "    </tr>\n",
       "    <tr>\n",
       "      <th>19910</th>\n",
       "      <td>19910</td>\n",
       "      <td>26.211835</td>\n",
       "      <td>POLYGON ((-30450.965 -3763339.573, -30447.33 -...</td>\n",
       "      <td>evans</td>\n",
       "      <td>-3.763343e+06</td>\n",
       "      <td>-30448.351613</td>\n",
       "      <td>None</td>\n",
       "      <td>None</td>\n",
       "      <td>None</td>\n",
       "      <td>None</td>\n",
       "      <td>None</td>\n",
       "    </tr>\n",
       "    <tr>\n",
       "      <th>19911</th>\n",
       "      <td>19911</td>\n",
       "      <td>25.601888</td>\n",
       "      <td>POLYGON ((-30458.329 -3763342.933, -30454.279 ...</td>\n",
       "      <td>evans</td>\n",
       "      <td>-3.763346e+06</td>\n",
       "      <td>-30455.592527</td>\n",
       "      <td>None</td>\n",
       "      <td>None</td>\n",
       "      <td>None</td>\n",
       "      <td>None</td>\n",
       "      <td>None</td>\n",
       "    </tr>\n",
       "    <tr>\n",
       "      <th>19912</th>\n",
       "      <td>19912</td>\n",
       "      <td>3.484957</td>\n",
       "      <td>POLYGON ((-30425.654 -3763358.902, -30424.228 ...</td>\n",
       "      <td>evans</td>\n",
       "      <td>-3.763360e+06</td>\n",
       "      <td>-30424.676197</td>\n",
       "      <td>None</td>\n",
       "      <td>None</td>\n",
       "      <td>None</td>\n",
       "      <td>None</td>\n",
       "      <td>None</td>\n",
       "    </tr>\n",
       "  </tbody>\n",
       "</table>\n",
       "<p>19482 rows × 11 columns</p>\n",
       "</div>"
      ],
      "text/plain": [
       "          id       area                                           geometry  \\\n",
       "0          0  23.162657  POLYGON ((-19993.55 -3769759.6, -19988.801 -37...   \n",
       "1          1   8.567160  POLYGON ((-13352.818 -3768899.929, -13345.695 ...   \n",
       "2          2   9.287182  POLYGON ((-13353.655 -3768901.389, -13346.512 ...   \n",
       "3          3   8.580228  POLYGON ((-13354.608 -3768903.024, -13347.583 ...   \n",
       "4          4  10.808848  POLYGON ((-13354.102 -3768907.616, -13353.441 ...   \n",
       "...      ...        ...                                                ...   \n",
       "19908  19908   4.039285  POLYGON ((-33704.692 -3760339.71, -33701.724 -...   \n",
       "19909  19909   2.332195  POLYGON ((-33661.945 -3760112.949, -33660.812 ...   \n",
       "19910  19910  26.211835  POLYGON ((-30450.965 -3763339.573, -30447.33 -...   \n",
       "19911  19911  25.601888  POLYGON ((-30458.329 -3763342.933, -30454.279 ...   \n",
       "19912  19912   3.484957  POLYGON ((-30425.654 -3763358.902, -30424.228 ...   \n",
       "\n",
       "      annotator  centroid_latitude  centroid_longitude image_name  \\\n",
       "0           biz      -3.769763e+06       -19991.996891       None   \n",
       "1           biz      -3.768902e+06       -13349.578806       None   \n",
       "2           biz      -3.768904e+06       -13350.422909       None   \n",
       "3           biz      -3.768906e+06       -13351.395241       None   \n",
       "4           biz      -3.768910e+06       -13351.308980       None   \n",
       "...         ...                ...                 ...        ...   \n",
       "19908     evans      -3.760340e+06       -33703.292947       None   \n",
       "19909     evans      -3.760114e+06       -33661.385134       None   \n",
       "19910     evans      -3.763343e+06       -30448.351613       None   \n",
       "19911     evans      -3.763346e+06       -30455.592527       None   \n",
       "19912     evans      -3.763360e+06       -30424.676197       None   \n",
       "\n",
       "      nw_corner_of_image_latitude nw_corner_of_image_longitude  \\\n",
       "0                            None                         None   \n",
       "1                            None                         None   \n",
       "2                            None                         None   \n",
       "3                            None                         None   \n",
       "4                            None                         None   \n",
       "...                           ...                          ...   \n",
       "19908                        None                         None   \n",
       "19909                        None                         None   \n",
       "19910                        None                         None   \n",
       "19911                        None                         None   \n",
       "19912                        None                         None   \n",
       "\n",
       "      se_corner_of_image_latitude se_corner_of_image_longitude  \n",
       "0                            None                         None  \n",
       "1                            None                         None  \n",
       "2                            None                         None  \n",
       "3                            None                         None  \n",
       "4                            None                         None  \n",
       "...                           ...                          ...  \n",
       "19908                        None                         None  \n",
       "19909                        None                         None  \n",
       "19910                        None                         None  \n",
       "19911                        None                         None  \n",
       "19912                        None                         None  \n",
       "\n",
       "[19482 rows x 11 columns]"
      ]
     },
     "execution_count": 52,
     "metadata": {},
     "output_type": "execute_result"
    }
   ],
   "source": [
    "# Load and process annotations\n",
    "annotations_list = []\n",
    "for annotator, path in file_paths.items():\n",
    "    annotations = gpd.read_file(path)\n",
    "    # print(annotations.columns)\n",
    "    # print(annotator)\n",
    "    annotations['annotator'] = annotator\n",
    "    if (annotator != 'biz') & (annotator != 'evans'):\n",
    "        annotations = annotations[annotations['path'].isnull()]\n",
    "    annotations = clean_annotation_layers(annotations)\n",
    "    annotations_list.append(annotations)\n",
    "\n",
    "# Concatenate all annotations and add important polygon features (polygon's centroid coordinates)\n",
    "annotations = pd.concat(annotations_list, ignore_index=True)\n",
    "annotations.reset_index(drop=True, inplace=True)\n",
    "annotations['id'] = annotations.index\n",
    "annotations['centroid'] = annotations.geometry.centroid\n",
    "annotations['centroid_latitude'] = annotations.centroid.y\n",
    "annotations['centroid_longitude'] = annotations.centroid.x\n",
    "annotations.drop(columns=['centroid'], inplace=True)\n",
    "annotations = annotations[annotations['geometry'].notnull()]\n",
    "\n",
    "# Add additional columns to annotations\n",
    "annotations[['image_name', 'nw_corner_of_image_latitude', 'nw_corner_of_image_longitude', \n",
    "             'se_corner_of_image_latitude', 'se_corner_of_image_longitude']] = None\n",
    "\n",
    "annotations"
   ]
  },
  {
   "cell_type": "markdown",
   "metadata": {},
   "source": [
    "Next, we need to determine which image each polygon belongs to. We are doing this by calculating the border coordinates for each annotator's images, then checking which polygons are within the images' bounds."
   ]
  },
  {
   "cell_type": "code",
   "execution_count": null,
   "metadata": {},
   "outputs": [],
   "source": [
    "def get_image_border_coordinates(image_path):\n",
    "    with rasterio.open(image_path) as src:\n",
    "        return src.bounds\n",
    "\n",
    "folder_path = r'C:\\Users\\AICHA\\Box\\Cape Town Energy Transitions Bass Connections\\Class Materials 2024-2025\\Aerial Imagery\\AP2023_TIFFs_Bass'\n",
    "prefix = '2023_RGB_8cm_'\n",
    "\n",
    "# Dictionary to store border coordinates for each annotator's images\n",
    "annotator_border_coordinates = {}\n",
    "completed_ann = []\n",
    "\n",
    "# Dictionary to store already processed images\n",
    "processed_images = {}\n",
    "\n",
    "# Iterate over each annotator and add the names of the images they completed\n",
    "for annotator, image_names in annotator_image_ids.items():\n",
    "    border_coordinates = {}\n",
    "    for image_name in image_names:\n",
    "        full_name = f\"{prefix}{image_name}.tif\"\n",
    "        image_path = os.path.join(folder_path, full_name)\n",
    "        \n",
    "        if os.path.exists(image_path):\n",
    "            if image_name not in processed_images:\n",
    "                coordinates = get_image_border_coordinates(image_path)\n",
    "                processed_images[image_name] = coordinates\n",
    "            else:\n",
    "                coordinates = processed_images[image_name]\n",
    "            \n",
    "            border_coordinates[image_name] = coordinates\n",
    "    \n",
    "    annotator_border_coordinates[annotator] = border_coordinates\n",
    "    completed_ann.append(annotator)"
   ]
  },
  {
   "cell_type": "code",
   "execution_count": null,
   "metadata": {},
   "outputs": [],
   "source": [
    "# some more data manipulations before associating the polygons to the images\n",
    "BoundingBox = namedtuple('BoundingBox', ['left', 'bottom', 'right', 'top'])\n",
    "\n",
    "transformed_dict = {}\n",
    "for annotator, images in annotator_border_coordinates.items():\n",
    "    transformed_dict[annotator] = {image: {'left': bounds.left, 'bottom': bounds.bottom, 'right': bounds.right, 'top': bounds.top} for image, bounds in images.items()}\n",
    "\n",
    "annotator_border_coordinates = transformed_dict \n",
    "\n",
    "# Function to check if the centroid (consequently the polygon) is within a bounding box\n",
    "def is_point_within_bounds(lat, lon, bounds):\n",
    "    return bounds['left'] <= lon <= bounds['right'] and bounds['bottom'] <= lat <= bounds['top']"
   ]
  },
  {
   "cell_type": "code",
   "execution_count": null,
   "metadata": {},
   "outputs": [
    {
     "data": {
      "text/html": [
       "<div>\n",
       "<style scoped>\n",
       "    .dataframe tbody tr th:only-of-type {\n",
       "        vertical-align: middle;\n",
       "    }\n",
       "\n",
       "    .dataframe tbody tr th {\n",
       "        vertical-align: top;\n",
       "    }\n",
       "\n",
       "    .dataframe thead th {\n",
       "        text-align: right;\n",
       "    }\n",
       "</style>\n",
       "<table border=\"1\" class=\"dataframe\">\n",
       "  <thead>\n",
       "    <tr style=\"text-align: right;\">\n",
       "      <th></th>\n",
       "      <th>id</th>\n",
       "      <th>area</th>\n",
       "      <th>geometry</th>\n",
       "      <th>annotator</th>\n",
       "      <th>centroid_latitude</th>\n",
       "      <th>centroid_longitude</th>\n",
       "      <th>image_name</th>\n",
       "      <th>nw_corner_of_image_latitude</th>\n",
       "      <th>nw_corner_of_image_longitude</th>\n",
       "      <th>se_corner_of_image_latitude</th>\n",
       "      <th>se_corner_of_image_longitude</th>\n",
       "    </tr>\n",
       "  </thead>\n",
       "  <tbody>\n",
       "    <tr>\n",
       "      <th>0</th>\n",
       "      <td>0</td>\n",
       "      <td>23.162657</td>\n",
       "      <td>POLYGON ((-19993.55 -3769759.6, -19988.801 -37...</td>\n",
       "      <td>biz</td>\n",
       "      <td>-3.769763e+06</td>\n",
       "      <td>-19991.996891</td>\n",
       "      <td>W16C_21</td>\n",
       "      <td>-3769000.0</td>\n",
       "      <td>-20000.0</td>\n",
       "      <td>-3770000.0</td>\n",
       "      <td>-19000.0</td>\n",
       "    </tr>\n",
       "    <tr>\n",
       "      <th>1</th>\n",
       "      <td>1</td>\n",
       "      <td>8.567160</td>\n",
       "      <td>POLYGON ((-13352.818 -3768899.929, -13345.695 ...</td>\n",
       "      <td>biz</td>\n",
       "      <td>-3.768902e+06</td>\n",
       "      <td>-13349.578806</td>\n",
       "      <td>W16D_17</td>\n",
       "      <td>-3768000.0</td>\n",
       "      <td>-14000.0</td>\n",
       "      <td>-3769000.0</td>\n",
       "      <td>-13000.0</td>\n",
       "    </tr>\n",
       "    <tr>\n",
       "      <th>2</th>\n",
       "      <td>2</td>\n",
       "      <td>9.287182</td>\n",
       "      <td>POLYGON ((-13353.655 -3768901.389, -13346.512 ...</td>\n",
       "      <td>biz</td>\n",
       "      <td>-3.768904e+06</td>\n",
       "      <td>-13350.422909</td>\n",
       "      <td>W16D_17</td>\n",
       "      <td>-3768000.0</td>\n",
       "      <td>-14000.0</td>\n",
       "      <td>-3769000.0</td>\n",
       "      <td>-13000.0</td>\n",
       "    </tr>\n",
       "    <tr>\n",
       "      <th>3</th>\n",
       "      <td>3</td>\n",
       "      <td>8.580228</td>\n",
       "      <td>POLYGON ((-13354.608 -3768903.024, -13347.583 ...</td>\n",
       "      <td>biz</td>\n",
       "      <td>-3.768906e+06</td>\n",
       "      <td>-13351.395241</td>\n",
       "      <td>W16D_17</td>\n",
       "      <td>-3768000.0</td>\n",
       "      <td>-14000.0</td>\n",
       "      <td>-3769000.0</td>\n",
       "      <td>-13000.0</td>\n",
       "    </tr>\n",
       "    <tr>\n",
       "      <th>4</th>\n",
       "      <td>4</td>\n",
       "      <td>10.808848</td>\n",
       "      <td>POLYGON ((-13354.102 -3768907.616, -13353.441 ...</td>\n",
       "      <td>biz</td>\n",
       "      <td>-3.768910e+06</td>\n",
       "      <td>-13351.308980</td>\n",
       "      <td>W16D_17</td>\n",
       "      <td>-3768000.0</td>\n",
       "      <td>-14000.0</td>\n",
       "      <td>-3769000.0</td>\n",
       "      <td>-13000.0</td>\n",
       "    </tr>\n",
       "    <tr>\n",
       "      <th>...</th>\n",
       "      <td>...</td>\n",
       "      <td>...</td>\n",
       "      <td>...</td>\n",
       "      <td>...</td>\n",
       "      <td>...</td>\n",
       "      <td>...</td>\n",
       "      <td>...</td>\n",
       "      <td>...</td>\n",
       "      <td>...</td>\n",
       "      <td>...</td>\n",
       "      <td>...</td>\n",
       "    </tr>\n",
       "    <tr>\n",
       "      <th>19908</th>\n",
       "      <td>19908</td>\n",
       "      <td>4.039285</td>\n",
       "      <td>POLYGON ((-33704.692 -3760339.71, -33701.724 -...</td>\n",
       "      <td>evans</td>\n",
       "      <td>-3.760340e+06</td>\n",
       "      <td>-33703.292947</td>\n",
       "      <td>W36B_2</td>\n",
       "      <td>-3760000.0</td>\n",
       "      <td>-34000.0</td>\n",
       "      <td>-3761000.0</td>\n",
       "      <td>-33000.0</td>\n",
       "    </tr>\n",
       "    <tr>\n",
       "      <th>19909</th>\n",
       "      <td>19909</td>\n",
       "      <td>2.332195</td>\n",
       "      <td>POLYGON ((-33661.945 -3760112.949, -33660.812 ...</td>\n",
       "      <td>evans</td>\n",
       "      <td>-3.760114e+06</td>\n",
       "      <td>-33661.385134</td>\n",
       "      <td>W36B_2</td>\n",
       "      <td>-3760000.0</td>\n",
       "      <td>-34000.0</td>\n",
       "      <td>-3761000.0</td>\n",
       "      <td>-33000.0</td>\n",
       "    </tr>\n",
       "    <tr>\n",
       "      <th>19910</th>\n",
       "      <td>19910</td>\n",
       "      <td>26.211835</td>\n",
       "      <td>POLYGON ((-30450.965 -3763339.573, -30447.33 -...</td>\n",
       "      <td>evans</td>\n",
       "      <td>-3.763343e+06</td>\n",
       "      <td>-30448.351613</td>\n",
       "      <td>None</td>\n",
       "      <td>None</td>\n",
       "      <td>None</td>\n",
       "      <td>None</td>\n",
       "      <td>None</td>\n",
       "    </tr>\n",
       "    <tr>\n",
       "      <th>19911</th>\n",
       "      <td>19911</td>\n",
       "      <td>25.601888</td>\n",
       "      <td>POLYGON ((-30458.329 -3763342.933, -30454.279 ...</td>\n",
       "      <td>evans</td>\n",
       "      <td>-3.763346e+06</td>\n",
       "      <td>-30455.592527</td>\n",
       "      <td>None</td>\n",
       "      <td>None</td>\n",
       "      <td>None</td>\n",
       "      <td>None</td>\n",
       "      <td>None</td>\n",
       "    </tr>\n",
       "    <tr>\n",
       "      <th>19912</th>\n",
       "      <td>19912</td>\n",
       "      <td>3.484957</td>\n",
       "      <td>POLYGON ((-30425.654 -3763358.902, -30424.228 ...</td>\n",
       "      <td>evans</td>\n",
       "      <td>-3.763360e+06</td>\n",
       "      <td>-30424.676197</td>\n",
       "      <td>None</td>\n",
       "      <td>None</td>\n",
       "      <td>None</td>\n",
       "      <td>None</td>\n",
       "      <td>None</td>\n",
       "    </tr>\n",
       "  </tbody>\n",
       "</table>\n",
       "<p>19482 rows × 11 columns</p>\n",
       "</div>"
      ],
      "text/plain": [
       "          id       area                                           geometry  \\\n",
       "0          0  23.162657  POLYGON ((-19993.55 -3769759.6, -19988.801 -37...   \n",
       "1          1   8.567160  POLYGON ((-13352.818 -3768899.929, -13345.695 ...   \n",
       "2          2   9.287182  POLYGON ((-13353.655 -3768901.389, -13346.512 ...   \n",
       "3          3   8.580228  POLYGON ((-13354.608 -3768903.024, -13347.583 ...   \n",
       "4          4  10.808848  POLYGON ((-13354.102 -3768907.616, -13353.441 ...   \n",
       "...      ...        ...                                                ...   \n",
       "19908  19908   4.039285  POLYGON ((-33704.692 -3760339.71, -33701.724 -...   \n",
       "19909  19909   2.332195  POLYGON ((-33661.945 -3760112.949, -33660.812 ...   \n",
       "19910  19910  26.211835  POLYGON ((-30450.965 -3763339.573, -30447.33 -...   \n",
       "19911  19911  25.601888  POLYGON ((-30458.329 -3763342.933, -30454.279 ...   \n",
       "19912  19912   3.484957  POLYGON ((-30425.654 -3763358.902, -30424.228 ...   \n",
       "\n",
       "      annotator  centroid_latitude  centroid_longitude image_name  \\\n",
       "0           biz      -3.769763e+06       -19991.996891    W16C_21   \n",
       "1           biz      -3.768902e+06       -13349.578806    W16D_17   \n",
       "2           biz      -3.768904e+06       -13350.422909    W16D_17   \n",
       "3           biz      -3.768906e+06       -13351.395241    W16D_17   \n",
       "4           biz      -3.768910e+06       -13351.308980    W16D_17   \n",
       "...         ...                ...                 ...        ...   \n",
       "19908     evans      -3.760340e+06       -33703.292947     W36B_2   \n",
       "19909     evans      -3.760114e+06       -33661.385134     W36B_2   \n",
       "19910     evans      -3.763343e+06       -30448.351613       None   \n",
       "19911     evans      -3.763346e+06       -30455.592527       None   \n",
       "19912     evans      -3.763360e+06       -30424.676197       None   \n",
       "\n",
       "      nw_corner_of_image_latitude nw_corner_of_image_longitude  \\\n",
       "0                      -3769000.0                     -20000.0   \n",
       "1                      -3768000.0                     -14000.0   \n",
       "2                      -3768000.0                     -14000.0   \n",
       "3                      -3768000.0                     -14000.0   \n",
       "4                      -3768000.0                     -14000.0   \n",
       "...                           ...                          ...   \n",
       "19908                  -3760000.0                     -34000.0   \n",
       "19909                  -3760000.0                     -34000.0   \n",
       "19910                        None                         None   \n",
       "19911                        None                         None   \n",
       "19912                        None                         None   \n",
       "\n",
       "      se_corner_of_image_latitude se_corner_of_image_longitude  \n",
       "0                      -3770000.0                     -19000.0  \n",
       "1                      -3769000.0                     -13000.0  \n",
       "2                      -3769000.0                     -13000.0  \n",
       "3                      -3769000.0                     -13000.0  \n",
       "4                      -3769000.0                     -13000.0  \n",
       "...                           ...                          ...  \n",
       "19908                  -3761000.0                     -33000.0  \n",
       "19909                  -3761000.0                     -33000.0  \n",
       "19910                        None                         None  \n",
       "19911                        None                         None  \n",
       "19912                        None                         None  \n",
       "\n",
       "[19482 rows x 11 columns]"
      ]
     },
     "execution_count": 56,
     "metadata": {},
     "output_type": "execute_result"
    }
   ],
   "source": [
    "flattened_coordinates = {}\n",
    "for annotator, images in annotator_border_coordinates.items():\n",
    "    flattened_coordinates.update(images)\n",
    "\n",
    "# Iterate over each row in the annotations DataFrame\n",
    "for idx, row in annotations.iterrows():\n",
    "    # annotator = row['annotator']\n",
    "    centroid_lat = row['centroid_latitude']\n",
    "    centroid_lon = row['centroid_longitude']\n",
    "    \n",
    "    # Check which image the centroid belongs to\n",
    "    for image_name, bounds in flattened_coordinates.items():\n",
    "        if is_point_within_bounds(centroid_lat, centroid_lon, bounds):\n",
    "            annotations.loc[idx, 'image_name'] = image_name\n",
    "            annotations.loc[idx, 'nw_corner_of_image_latitude'] = bounds['top']\n",
    "            annotations.loc[idx, 'nw_corner_of_image_longitude'] = bounds['left']\n",
    "            annotations.loc[idx, 'se_corner_of_image_latitude'] = bounds['bottom']\n",
    "            annotations.loc[idx, 'se_corner_of_image_longitude'] = bounds['right']\n",
    "            break\n",
    "\n",
    "# Now we associated the polygons to the images\n",
    "annotations"
   ]
  },
  {
   "cell_type": "code",
   "execution_count": null,
   "metadata": {},
   "outputs": [
    {
     "name": "stderr",
     "output_type": "stream",
     "text": [
      "C:\\Users\\AICHA\\AppData\\Local\\Temp\\ipykernel_12604\\1293296621.py:2: UserWarning: Column names longer than 10 characters will be truncated when saved to ESRI Shapefile.\n",
      "  available_annotations.to_file(r\"C:\\Users\\AICHA\\Box\\Cape Town Energy Transitions Bass Connections\\Class Materials 2024-2025\\Teams\\Team 1 Machine learning\\CT - MachineLearning\\S1 Machine Learning\\available_annotations_feb.shp\")\n",
      "c:\\Users\\AICHA\\miniconda3\\envs\\solar\\lib\\site-packages\\pyogrio\\raw.py:723: RuntimeWarning: Normalized/laundered field name: 'centroid_latitude' to 'centroid_l'\n",
      "  ogr_write(\n",
      "c:\\Users\\AICHA\\miniconda3\\envs\\solar\\lib\\site-packages\\pyogrio\\raw.py:723: RuntimeWarning: Normalized/laundered field name: 'centroid_longitude' to 'centroid_1'\n",
      "  ogr_write(\n",
      "c:\\Users\\AICHA\\miniconda3\\envs\\solar\\lib\\site-packages\\pyogrio\\raw.py:723: RuntimeWarning: Normalized/laundered field name: 'nw_corner_of_image_latitude' to 'nw_corner_'\n",
      "  ogr_write(\n",
      "c:\\Users\\AICHA\\miniconda3\\envs\\solar\\lib\\site-packages\\pyogrio\\raw.py:723: RuntimeWarning: Normalized/laundered field name: 'nw_corner_of_image_longitude' to 'nw_corne_1'\n",
      "  ogr_write(\n",
      "c:\\Users\\AICHA\\miniconda3\\envs\\solar\\lib\\site-packages\\pyogrio\\raw.py:723: RuntimeWarning: Normalized/laundered field name: 'se_corner_of_image_latitude' to 'se_corner_'\n",
      "  ogr_write(\n",
      "c:\\Users\\AICHA\\miniconda3\\envs\\solar\\lib\\site-packages\\pyogrio\\raw.py:723: RuntimeWarning: Normalized/laundered field name: 'se_corner_of_image_longitude' to 'se_corne_1'\n",
      "  ogr_write(\n"
     ]
    }
   ],
   "source": [
    "# Saving the processed dataframe locally\n",
    "# available_annotations = annotations[annotations['image_name'].notnull()]\n",
    "# available_annotations.to_file(r\"C:\\Users\\AICHA\\Box\\Cape Town Energy Transitions Bass Connections\\Class Materials 2024-2025\\Teams\\Team 1 Machine learning\\CT - MachineLearning\\S1 Machine Learning\\available_annotations_feb.shp\")"
   ]
  },
  {
   "cell_type": "markdown",
   "metadata": {},
   "source": [
    "So far, we created a dataset that contains all of the available annotations, their geographical coordinates, each polygon centroid's coordinates, the annotator name, and the image each annotation belongs to. Now, we will calculate the pixel coordinates and the area in pixels of each polygon. These pixel corrdinates are necessary to cut the images into image-mask pairs."
   ]
  },
  {
   "cell_type": "code",
   "execution_count": null,
   "metadata": {},
   "outputs": [
    {
     "name": "stderr",
     "output_type": "stream",
     "text": [
      "Processing Images:   0%|          | 0/184 [00:00<?, ?it/s]"
     ]
    },
    {
     "name": "stdout",
     "output_type": "stream",
     "text": [
      "Processing image: W07A_1\n"
     ]
    },
    {
     "name": "stderr",
     "output_type": "stream",
     "text": [
      "Processing Images:   1%|          | 1/184 [00:00<02:05,  1.46it/s]"
     ]
    },
    {
     "name": "stdout",
     "output_type": "stream",
     "text": [
      "Processing image: W07A_24\n"
     ]
    },
    {
     "name": "stderr",
     "output_type": "stream",
     "text": [
      "Processing Images:   1%|          | 2/184 [00:01<02:02,  1.49it/s]"
     ]
    },
    {
     "name": "stdout",
     "output_type": "stream",
     "text": [
      "Processing image: W07C_10\n"
     ]
    },
    {
     "name": "stderr",
     "output_type": "stream",
     "text": [
      "Processing Images:   2%|▏         | 3/184 [00:05<06:43,  2.23s/it]"
     ]
    },
    {
     "name": "stdout",
     "output_type": "stream",
     "text": [
      "Processing image: W07C_11\n"
     ]
    },
    {
     "name": "stderr",
     "output_type": "stream",
     "text": [
      "Processing Images:   2%|▏         | 4/184 [00:14<15:16,  5.09s/it]"
     ]
    },
    {
     "name": "stdout",
     "output_type": "stream",
     "text": [
      "Processing image: W07C_12\n"
     ]
    },
    {
     "name": "stderr",
     "output_type": "stream",
     "text": [
      "Processing Images:   3%|▎         | 5/184 [00:29<25:34,  8.58s/it]"
     ]
    },
    {
     "name": "stdout",
     "output_type": "stream",
     "text": [
      "Processing image: W07C_13\n"
     ]
    },
    {
     "name": "stderr",
     "output_type": "stream",
     "text": [
      "Processing Images:   3%|▎         | 6/184 [00:59<46:42, 15.75s/it]"
     ]
    },
    {
     "name": "stdout",
     "output_type": "stream",
     "text": [
      "Processing image: W07C_16\n"
     ]
    },
    {
     "name": "stderr",
     "output_type": "stream",
     "text": [
      "Processing Images:   4%|▍         | 7/184 [01:09<41:19, 14.01s/it]"
     ]
    },
    {
     "name": "stdout",
     "output_type": "stream",
     "text": [
      "Processing image: W07C_17\n"
     ]
    },
    {
     "name": "stderr",
     "output_type": "stream",
     "text": [
      "Processing Images:   4%|▍         | 8/184 [01:12<30:11, 10.29s/it]"
     ]
    },
    {
     "name": "stdout",
     "output_type": "stream",
     "text": [
      "Processing image: W07C_2\n"
     ]
    },
    {
     "name": "stderr",
     "output_type": "stream",
     "text": [
      "Processing Images:   5%|▍         | 9/184 [01:13<22:06,  7.58s/it]"
     ]
    },
    {
     "name": "stdout",
     "output_type": "stream",
     "text": [
      "Processing image: W07C_21\n"
     ]
    },
    {
     "name": "stderr",
     "output_type": "stream",
     "text": [
      "Processing Images:   5%|▌         | 10/184 [01:18<19:46,  6.82s/it]"
     ]
    },
    {
     "name": "stdout",
     "output_type": "stream",
     "text": [
      "Processing image: W07C_22\n"
     ]
    },
    {
     "name": "stderr",
     "output_type": "stream",
     "text": [
      "Processing Images:   6%|▌         | 11/184 [01:25<19:33,  6.78s/it]"
     ]
    },
    {
     "name": "stdout",
     "output_type": "stream",
     "text": [
      "Processing image: W07C_23\n"
     ]
    },
    {
     "name": "stderr",
     "output_type": "stream",
     "text": [
      "Processing Images:   7%|▋         | 12/184 [01:25<13:51,  4.84s/it]"
     ]
    },
    {
     "name": "stdout",
     "output_type": "stream",
     "text": [
      "Processing image: W07C_3\n"
     ]
    },
    {
     "name": "stderr",
     "output_type": "stream",
     "text": [
      "Processing Images:   7%|▋         | 13/184 [01:31<14:09,  4.97s/it]"
     ]
    },
    {
     "name": "stdout",
     "output_type": "stream",
     "text": [
      "Processing image: W07C_4\n"
     ]
    },
    {
     "name": "stderr",
     "output_type": "stream",
     "text": [
      "Processing Images:   8%|▊         | 14/184 [01:32<10:38,  3.75s/it]"
     ]
    },
    {
     "name": "stdout",
     "output_type": "stream",
     "text": [
      "Processing image: W07C_5\n"
     ]
    },
    {
     "name": "stderr",
     "output_type": "stream",
     "text": [
      "Processing Images:   8%|▊         | 15/184 [01:33<08:36,  3.05s/it]"
     ]
    },
    {
     "name": "stdout",
     "output_type": "stream",
     "text": [
      "Processing image: W07C_6\n"
     ]
    },
    {
     "name": "stderr",
     "output_type": "stream",
     "text": [
      "Processing Images:   9%|▊         | 16/184 [01:36<08:12,  2.93s/it]"
     ]
    },
    {
     "name": "stdout",
     "output_type": "stream",
     "text": [
      "Processing image: W07C_7\n"
     ]
    },
    {
     "name": "stderr",
     "output_type": "stream",
     "text": [
      "Processing Images:   9%|▉         | 17/184 [01:37<06:36,  2.37s/it]"
     ]
    },
    {
     "name": "stdout",
     "output_type": "stream",
     "text": [
      "Processing image: W07C_8\n"
     ]
    },
    {
     "name": "stderr",
     "output_type": "stream",
     "text": [
      "Processing Images:  10%|▉         | 18/184 [01:50<15:45,  5.70s/it]"
     ]
    },
    {
     "name": "stdout",
     "output_type": "stream",
     "text": [
      "Processing image: W07C_9\n"
     ]
    },
    {
     "name": "stderr",
     "output_type": "stream",
     "text": [
      "Processing Images:  10%|█         | 19/184 [01:55<14:31,  5.28s/it]"
     ]
    },
    {
     "name": "stdout",
     "output_type": "stream",
     "text": [
      "Processing image: W07D_1\n"
     ]
    },
    {
     "name": "stderr",
     "output_type": "stream",
     "text": [
      "Processing Images:  11%|█         | 20/184 [01:55<10:42,  3.92s/it]"
     ]
    },
    {
     "name": "stdout",
     "output_type": "stream",
     "text": [
      "Processing image: W07D_6\n"
     ]
    },
    {
     "name": "stderr",
     "output_type": "stream",
     "text": [
      "Processing Images:  11%|█▏        | 21/184 [01:56<07:55,  2.92s/it]"
     ]
    },
    {
     "name": "stdout",
     "output_type": "stream",
     "text": [
      "Processing image: W08A_1\n"
     ]
    },
    {
     "name": "stderr",
     "output_type": "stream",
     "text": [
      "Processing Images:  12%|█▎        | 23/184 [01:59<05:53,  2.20s/it]"
     ]
    },
    {
     "name": "stdout",
     "output_type": "stream",
     "text": [
      "Processing image: W08A_12\n",
      "Processing image: W08A_2\n"
     ]
    },
    {
     "name": "stderr",
     "output_type": "stream",
     "text": [
      "Processing Images:  13%|█▎        | 24/184 [02:00<04:50,  1.82s/it]"
     ]
    },
    {
     "name": "stdout",
     "output_type": "stream",
     "text": [
      "Processing image: W08B_4\n"
     ]
    },
    {
     "name": "stderr",
     "output_type": "stream",
     "text": [
      "Processing Images:  14%|█▎        | 25/184 [02:01<03:42,  1.40s/it]"
     ]
    },
    {
     "name": "stdout",
     "output_type": "stream",
     "text": [
      "Processing image: W08B_9\n"
     ]
    },
    {
     "name": "stderr",
     "output_type": "stream",
     "text": [
      "Processing Images:  14%|█▍        | 26/184 [02:02<03:47,  1.44s/it]"
     ]
    },
    {
     "name": "stdout",
     "output_type": "stream",
     "text": [
      "Processing image: W12A_17\n"
     ]
    },
    {
     "name": "stderr",
     "output_type": "stream",
     "text": [
      "Processing Images:  15%|█▍        | 27/184 [02:08<07:02,  2.69s/it]"
     ]
    },
    {
     "name": "stdout",
     "output_type": "stream",
     "text": [
      "Processing image: W12A_21\n"
     ]
    },
    {
     "name": "stderr",
     "output_type": "stream",
     "text": [
      "Processing Images:  15%|█▌        | 28/184 [02:13<08:36,  3.31s/it]"
     ]
    },
    {
     "name": "stdout",
     "output_type": "stream",
     "text": [
      "Processing image: W12A_22\n"
     ]
    },
    {
     "name": "stderr",
     "output_type": "stream",
     "text": [
      "Processing Images:  16%|█▋        | 30/184 [02:31<13:59,  5.45s/it]"
     ]
    },
    {
     "name": "stdout",
     "output_type": "stream",
     "text": [
      "Processing image: W12A_23\n"
     ]
    },
    {
     "name": "stderr",
     "output_type": "stream",
     "text": [
      "Processing Images:  17%|█▋        | 31/184 [02:31<09:50,  3.86s/it]"
     ]
    },
    {
     "name": "stdout",
     "output_type": "stream",
     "text": [
      "Processing image: W12A_24\n",
      "Processing image: W12C_11\n"
     ]
    },
    {
     "name": "stderr",
     "output_type": "stream",
     "text": [
      "Processing Images:  17%|█▋        | 32/184 [02:33<08:13,  3.24s/it]"
     ]
    },
    {
     "name": "stdout",
     "output_type": "stream",
     "text": [
      "Processing image: W12C_12\n"
     ]
    },
    {
     "name": "stderr",
     "output_type": "stream",
     "text": [
      "Processing Images:  18%|█▊        | 33/184 [02:37<08:57,  3.56s/it]"
     ]
    },
    {
     "name": "stdout",
     "output_type": "stream",
     "text": [
      "Processing image: W12C_16\n"
     ]
    },
    {
     "name": "stderr",
     "output_type": "stream",
     "text": [
      "Processing Images:  18%|█▊        | 34/184 [02:38<06:45,  2.70s/it]"
     ]
    },
    {
     "name": "stdout",
     "output_type": "stream",
     "text": [
      "Processing image: W12C_4\n"
     ]
    },
    {
     "name": "stderr",
     "output_type": "stream",
     "text": [
      "Processing Images:  19%|█▉        | 35/184 [02:42<07:59,  3.22s/it]"
     ]
    },
    {
     "name": "stdout",
     "output_type": "stream",
     "text": [
      "Processing image: W12C_6\n"
     ]
    },
    {
     "name": "stderr",
     "output_type": "stream",
     "text": [
      "Processing Images:  20%|██        | 37/184 [02:43<04:23,  1.79s/it]"
     ]
    },
    {
     "name": "stdout",
     "output_type": "stream",
     "text": [
      "Processing image: W13C_11\n",
      "Processing image: W13C_13\n"
     ]
    },
    {
     "name": "stderr",
     "output_type": "stream",
     "text": [
      "Processing Images:  21%|██        | 38/184 [18:38<11:40:22, 287.83s/it]"
     ]
    },
    {
     "name": "stdout",
     "output_type": "stream",
     "text": [
      "Processing image: W13C_16\n"
     ]
    },
    {
     "name": "stderr",
     "output_type": "stream",
     "text": [
      "Processing Images:  21%|██        | 39/184 [34:26<19:33:53, 485.75s/it]"
     ]
    },
    {
     "name": "stdout",
     "output_type": "stream",
     "text": [
      "Processing image: W13C_18\n"
     ]
    },
    {
     "name": "stderr",
     "output_type": "stream",
     "text": [
      "Processing Images:  22%|██▏       | 40/184 [36:06<14:47:59, 370.00s/it]"
     ]
    },
    {
     "name": "stdout",
     "output_type": "stream",
     "text": [
      "Processing image: W13C_22\n"
     ]
    },
    {
     "name": "stderr",
     "output_type": "stream",
     "text": [
      "Processing Images:  22%|██▏       | 41/184 [37:44<11:27:46, 288.57s/it]"
     ]
    },
    {
     "name": "stdout",
     "output_type": "stream",
     "text": [
      "Processing image: W13C_8\n"
     ]
    },
    {
     "name": "stderr",
     "output_type": "stream",
     "text": [
      "Processing Images:  23%|██▎       | 42/184 [39:30<9:13:20, 233.80s/it] "
     ]
    },
    {
     "name": "stdout",
     "output_type": "stream",
     "text": [
      "Processing image: W14A_11\n"
     ]
    },
    {
     "name": "stderr",
     "output_type": "stream",
     "text": [
      "Processing Images:  23%|██▎       | 43/184 [41:20<7:41:37, 196.44s/it]"
     ]
    },
    {
     "name": "stdout",
     "output_type": "stream",
     "text": [
      "Processing image: W14A_12\n"
     ]
    },
    {
     "name": "stderr",
     "output_type": "stream",
     "text": [
      "Processing Images:  24%|██▍       | 44/184 [43:20<6:45:06, 173.62s/it]"
     ]
    },
    {
     "name": "stdout",
     "output_type": "stream",
     "text": [
      "Processing image: W14A_21\n"
     ]
    },
    {
     "name": "stderr",
     "output_type": "stream",
     "text": [
      "Processing Images:  24%|██▍       | 45/184 [44:59<5:50:19, 151.22s/it]"
     ]
    },
    {
     "name": "stdout",
     "output_type": "stream",
     "text": [
      "Processing image: W16C_14\n"
     ]
    },
    {
     "name": "stderr",
     "output_type": "stream",
     "text": [
      "Processing Images:  25%|██▌       | 46/184 [46:55<5:23:26, 140.63s/it]"
     ]
    },
    {
     "name": "stdout",
     "output_type": "stream",
     "text": [
      "Processing image: W16C_15\n"
     ]
    },
    {
     "name": "stderr",
     "output_type": "stream",
     "text": [
      "Processing Images:  26%|██▌       | 47/184 [48:47<5:01:22, 131.99s/it]"
     ]
    },
    {
     "name": "stdout",
     "output_type": "stream",
     "text": [
      "Processing image: W16C_17\n"
     ]
    },
    {
     "name": "stderr",
     "output_type": "stream",
     "text": [
      "Processing Images:  26%|██▌       | 48/184 [50:51<4:53:59, 129.70s/it]"
     ]
    },
    {
     "name": "stdout",
     "output_type": "stream",
     "text": [
      "Processing image: W16C_18\n"
     ]
    },
    {
     "name": "stderr",
     "output_type": "stream",
     "text": [
      "Processing Images:  27%|██▋       | 49/184 [52:49<4:43:52, 126.17s/it]"
     ]
    },
    {
     "name": "stdout",
     "output_type": "stream",
     "text": [
      "Processing image: W16C_19\n"
     ]
    },
    {
     "name": "stderr",
     "output_type": "stream",
     "text": [
      "Processing Images:  27%|██▋       | 50/184 [55:01<4:45:21, 127.77s/it]"
     ]
    },
    {
     "name": "stdout",
     "output_type": "stream",
     "text": [
      "Processing image: W16C_20\n"
     ]
    },
    {
     "name": "stderr",
     "output_type": "stream",
     "text": [
      "Processing Images:  28%|██▊       | 51/184 [57:08<4:43:16, 127.80s/it]"
     ]
    },
    {
     "name": "stdout",
     "output_type": "stream",
     "text": [
      "Processing image: W16C_21\n"
     ]
    },
    {
     "name": "stderr",
     "output_type": "stream",
     "text": [
      "Processing Images:  28%|██▊       | 52/184 [59:41<4:57:39, 135.30s/it]"
     ]
    },
    {
     "name": "stdout",
     "output_type": "stream",
     "text": [
      "Processing image: W16C_22\n"
     ]
    },
    {
     "name": "stderr",
     "output_type": "stream",
     "text": [
      "Processing Images:  29%|██▉       | 53/184 [1:01:37<4:42:50, 129.55s/it]"
     ]
    },
    {
     "name": "stdout",
     "output_type": "stream",
     "text": [
      "Processing image: W16D_12\n"
     ]
    },
    {
     "name": "stderr",
     "output_type": "stream",
     "text": [
      "Processing Images:  29%|██▉       | 54/184 [1:03:15<4:19:38, 119.84s/it]"
     ]
    },
    {
     "name": "stdout",
     "output_type": "stream",
     "text": [
      "Processing image: W16D_16\n"
     ]
    },
    {
     "name": "stderr",
     "output_type": "stream",
     "text": [
      "Processing Images:  30%|██▉       | 55/184 [1:05:14<4:17:07, 119.59s/it]"
     ]
    },
    {
     "name": "stdout",
     "output_type": "stream",
     "text": [
      "Processing image: W16D_17\n"
     ]
    },
    {
     "name": "stderr",
     "output_type": "stream",
     "text": [
      "Processing Images:  30%|███       | 56/184 [1:06:59<4:05:58, 115.30s/it]"
     ]
    },
    {
     "name": "stdout",
     "output_type": "stream",
     "text": [
      "Processing image: W16D_21\n"
     ]
    },
    {
     "name": "stderr",
     "output_type": "stream",
     "text": [
      "Processing Images:  31%|███       | 57/184 [1:09:14<4:16:29, 121.18s/it]"
     ]
    },
    {
     "name": "stdout",
     "output_type": "stream",
     "text": [
      "Processing image: W16D_22\n"
     ]
    },
    {
     "name": "stderr",
     "output_type": "stream",
     "text": [
      "Processing Images:  32%|███▏      | 58/184 [1:11:09<4:10:40, 119.37s/it]"
     ]
    },
    {
     "name": "stdout",
     "output_type": "stream",
     "text": [
      "Processing image: W16D_23\n"
     ]
    },
    {
     "name": "stderr",
     "output_type": "stream",
     "text": [
      "Processing Images:  32%|███▏      | 59/184 [1:12:55<4:00:40, 115.52s/it]"
     ]
    },
    {
     "name": "stdout",
     "output_type": "stream",
     "text": [
      "Processing image: W16D_24\n"
     ]
    },
    {
     "name": "stderr",
     "output_type": "stream",
     "text": [
      "Processing Images:  33%|███▎      | 60/184 [1:14:41<3:52:36, 112.55s/it]"
     ]
    },
    {
     "name": "stdout",
     "output_type": "stream",
     "text": [
      "Processing image: W16D_25\n"
     ]
    },
    {
     "name": "stderr",
     "output_type": "stream",
     "text": [
      "Processing Images:  33%|███▎      | 61/184 [1:16:30<3:48:39, 111.54s/it]"
     ]
    },
    {
     "name": "stdout",
     "output_type": "stream",
     "text": [
      "Processing image: W16D_7\n"
     ]
    },
    {
     "name": "stderr",
     "output_type": "stream",
     "text": [
      "Processing Images:  34%|███▎      | 62/184 [1:18:16<3:43:10, 109.75s/it]"
     ]
    },
    {
     "name": "stdout",
     "output_type": "stream",
     "text": [
      "Processing image: W17B_11\n"
     ]
    },
    {
     "name": "stderr",
     "output_type": "stream",
     "text": [
      "Processing Images:  34%|███▍      | 63/184 [1:20:20<3:49:59, 114.04s/it]"
     ]
    },
    {
     "name": "stdout",
     "output_type": "stream",
     "text": [
      "Processing image: W17B_2\n"
     ]
    },
    {
     "name": "stderr",
     "output_type": "stream",
     "text": [
      "Processing Images:  35%|███▍      | 64/184 [1:22:22<3:53:06, 116.56s/it]"
     ]
    },
    {
     "name": "stdout",
     "output_type": "stream",
     "text": [
      "Processing image: W18B_5\n"
     ]
    },
    {
     "name": "stderr",
     "output_type": "stream",
     "text": [
      "Processing Images:  35%|███▌      | 65/184 [1:24:17<3:50:15, 116.10s/it]"
     ]
    },
    {
     "name": "stdout",
     "output_type": "stream",
     "text": [
      "Processing image: W18B_8\n"
     ]
    },
    {
     "name": "stderr",
     "output_type": "stream",
     "text": [
      "Processing Images:  36%|███▌      | 66/184 [1:25:47<3:32:41, 108.15s/it]"
     ]
    },
    {
     "name": "stdout",
     "output_type": "stream",
     "text": [
      "Processing image: W18B_9\n"
     ]
    },
    {
     "name": "stderr",
     "output_type": "stream",
     "text": [
      "Processing Images:  36%|███▋      | 67/184 [1:27:51<3:40:09, 112.90s/it]"
     ]
    },
    {
     "name": "stdout",
     "output_type": "stream",
     "text": [
      "Processing image: W18C_4\n"
     ]
    },
    {
     "name": "stderr",
     "output_type": "stream",
     "text": [
      "Processing Images:  37%|███▋      | 68/184 [1:29:27<3:28:20, 107.77s/it]"
     ]
    },
    {
     "name": "stdout",
     "output_type": "stream",
     "text": [
      "Processing image: W18D_21\n"
     ]
    },
    {
     "name": "stderr",
     "output_type": "stream",
     "text": [
      "Processing Images:  38%|███▊      | 69/184 [1:30:01<2:44:07, 85.63s/it] "
     ]
    },
    {
     "name": "stdout",
     "output_type": "stream",
     "text": [
      "Processing image: W18D_22\n"
     ]
    },
    {
     "name": "stderr",
     "output_type": "stream",
     "text": [
      "Processing Images:  38%|███▊      | 70/184 [1:32:00<3:02:04, 95.83s/it]"
     ]
    },
    {
     "name": "stdout",
     "output_type": "stream",
     "text": [
      "Processing image: W19B_2\n"
     ]
    },
    {
     "name": "stderr",
     "output_type": "stream",
     "text": [
      "Processing Images:  39%|███▊      | 71/184 [1:33:34<2:59:15, 95.18s/it]"
     ]
    },
    {
     "name": "stdout",
     "output_type": "stream",
     "text": [
      "Processing image: W22D_22\n"
     ]
    },
    {
     "name": "stderr",
     "output_type": "stream",
     "text": [
      "Processing Images:  39%|███▉      | 72/184 [1:35:05<2:55:34, 94.06s/it]"
     ]
    },
    {
     "name": "stdout",
     "output_type": "stream",
     "text": [
      "Processing image: W23A_13\n"
     ]
    },
    {
     "name": "stderr",
     "output_type": "stream",
     "text": [
      "Processing Images:  40%|███▉      | 73/184 [1:36:38<2:53:10, 93.61s/it]"
     ]
    },
    {
     "name": "stdout",
     "output_type": "stream",
     "text": [
      "Processing image: W23A_14\n"
     ]
    },
    {
     "name": "stderr",
     "output_type": "stream",
     "text": [
      "Processing Images:  40%|████      | 74/184 [1:38:19<2:55:45, 95.87s/it]"
     ]
    },
    {
     "name": "stdout",
     "output_type": "stream",
     "text": [
      "Processing image: W25A_3\n"
     ]
    },
    {
     "name": "stderr",
     "output_type": "stream",
     "text": [
      "Processing Images:  41%|████      | 75/184 [1:40:10<3:02:22, 100.39s/it]"
     ]
    },
    {
     "name": "stdout",
     "output_type": "stream",
     "text": [
      "Processing image: W25A_4\n"
     ]
    },
    {
     "name": "stderr",
     "output_type": "stream",
     "text": [
      "Processing Images:  41%|████▏     | 76/184 [1:41:59<3:05:10, 102.88s/it]"
     ]
    },
    {
     "name": "stdout",
     "output_type": "stream",
     "text": [
      "Processing image: W25A_5\n"
     ]
    },
    {
     "name": "stderr",
     "output_type": "stream",
     "text": [
      "Processing Images:  42%|████▏     | 77/184 [1:43:56<3:11:24, 107.33s/it]"
     ]
    },
    {
     "name": "stdout",
     "output_type": "stream",
     "text": [
      "Processing image: W25A_6\n"
     ]
    },
    {
     "name": "stderr",
     "output_type": "stream",
     "text": [
      "Processing Images:  42%|████▏     | 78/184 [1:45:48<3:11:51, 108.60s/it]"
     ]
    },
    {
     "name": "stdout",
     "output_type": "stream",
     "text": [
      "Processing image: W25A_7\n"
     ]
    },
    {
     "name": "stderr",
     "output_type": "stream",
     "text": [
      "Processing Images:  43%|████▎     | 79/184 [1:47:50<3:16:55, 112.52s/it]"
     ]
    },
    {
     "name": "stdout",
     "output_type": "stream",
     "text": [
      "Processing image: W25A_8\n"
     ]
    },
    {
     "name": "stderr",
     "output_type": "stream",
     "text": [
      "Processing Images:  43%|████▎     | 80/184 [1:49:51<3:19:43, 115.22s/it]"
     ]
    },
    {
     "name": "stdout",
     "output_type": "stream",
     "text": [
      "Processing image: W25A_9\n"
     ]
    },
    {
     "name": "stderr",
     "output_type": "stream",
     "text": [
      "Processing Images:  44%|████▍     | 81/184 [1:51:44<3:16:19, 114.37s/it]"
     ]
    },
    {
     "name": "stdout",
     "output_type": "stream",
     "text": [
      "Processing image: W25B_1\n"
     ]
    },
    {
     "name": "stderr",
     "output_type": "stream",
     "text": [
      "Processing Images:  45%|████▍     | 82/184 [1:53:24<3:07:16, 110.16s/it]"
     ]
    },
    {
     "name": "stdout",
     "output_type": "stream",
     "text": [
      "Processing image: W25B_12\n"
     ]
    },
    {
     "name": "stderr",
     "output_type": "stream",
     "text": [
      "Processing Images:  45%|████▌     | 83/184 [1:55:12<3:04:18, 109.49s/it]"
     ]
    },
    {
     "name": "stdout",
     "output_type": "stream",
     "text": [
      "Processing image: W25B_16\n"
     ]
    },
    {
     "name": "stderr",
     "output_type": "stream",
     "text": [
      "Processing Images:  46%|████▌     | 84/184 [1:57:10<3:06:34, 111.95s/it]"
     ]
    },
    {
     "name": "stdout",
     "output_type": "stream",
     "text": [
      "Processing image: W25B_17\n"
     ]
    },
    {
     "name": "stderr",
     "output_type": "stream",
     "text": [
      "Processing Images:  46%|████▌     | 85/184 [1:59:06<3:06:44, 113.18s/it]"
     ]
    },
    {
     "name": "stdout",
     "output_type": "stream",
     "text": [
      "Processing image: W25B_2\n"
     ]
    },
    {
     "name": "stderr",
     "output_type": "stream",
     "text": [
      "Processing Images:  47%|████▋     | 86/184 [2:00:48<2:59:32, 109.92s/it]"
     ]
    },
    {
     "name": "stdout",
     "output_type": "stream",
     "text": [
      "Processing image: W25B_21\n"
     ]
    },
    {
     "name": "stderr",
     "output_type": "stream",
     "text": [
      "Processing Images:  47%|████▋     | 87/184 [2:02:41<2:59:13, 110.86s/it]"
     ]
    },
    {
     "name": "stdout",
     "output_type": "stream",
     "text": [
      "Processing image: W25B_6\n"
     ]
    },
    {
     "name": "stderr",
     "output_type": "stream",
     "text": [
      "Processing Images:  48%|████▊     | 88/184 [2:04:31<2:57:02, 110.65s/it]"
     ]
    },
    {
     "name": "stdout",
     "output_type": "stream",
     "text": [
      "Processing image: W25B_7\n"
     ]
    },
    {
     "name": "stderr",
     "output_type": "stream",
     "text": [
      "Processing Images:  48%|████▊     | 89/184 [2:06:14<2:51:31, 108.33s/it]"
     ]
    },
    {
     "name": "stdout",
     "output_type": "stream",
     "text": [
      "Processing image: W25C_1\n"
     ]
    },
    {
     "name": "stderr",
     "output_type": "stream",
     "text": [
      "Processing Images:  49%|████▉     | 90/184 [2:07:54<2:45:42, 105.77s/it]"
     ]
    },
    {
     "name": "stdout",
     "output_type": "stream",
     "text": [
      "Processing image: W25C_11\n"
     ]
    },
    {
     "name": "stderr",
     "output_type": "stream",
     "text": [
      "Processing Images:  49%|████▉     | 91/184 [2:09:39<2:43:38, 105.58s/it]"
     ]
    },
    {
     "name": "stdout",
     "output_type": "stream",
     "text": [
      "Processing image: W25C_12\n"
     ]
    },
    {
     "name": "stderr",
     "output_type": "stream",
     "text": [
      "Processing Images:  50%|█████     | 92/184 [2:11:18<2:39:04, 103.74s/it]"
     ]
    },
    {
     "name": "stdout",
     "output_type": "stream",
     "text": [
      "Processing image: W25C_13\n"
     ]
    },
    {
     "name": "stderr",
     "output_type": "stream",
     "text": [
      "Processing Images:  51%|█████     | 93/184 [2:13:02<2:37:09, 103.63s/it]"
     ]
    },
    {
     "name": "stdout",
     "output_type": "stream",
     "text": [
      "Processing image: W33A_10\n"
     ]
    },
    {
     "name": "stderr",
     "output_type": "stream",
     "text": [
      "Processing Images:  51%|█████     | 94/184 [2:14:41<2:33:22, 102.25s/it]"
     ]
    },
    {
     "name": "stdout",
     "output_type": "stream",
     "text": [
      "Processing image: W33A_18\n"
     ]
    },
    {
     "name": "stderr",
     "output_type": "stream",
     "text": [
      "Processing Images:  52%|█████▏    | 95/184 [2:16:13<2:26:58, 99.09s/it] "
     ]
    },
    {
     "name": "stdout",
     "output_type": "stream",
     "text": [
      "Processing image: W33A_9\n"
     ]
    },
    {
     "name": "stderr",
     "output_type": "stream",
     "text": [
      "Processing Images:  52%|█████▏    | 96/184 [2:17:40<2:20:08, 95.55s/it]"
     ]
    },
    {
     "name": "stdout",
     "output_type": "stream",
     "text": [
      "Processing image: W33B_2\n"
     ]
    },
    {
     "name": "stderr",
     "output_type": "stream",
     "text": [
      "Processing Images:  53%|█████▎    | 97/184 [2:19:05<2:14:06, 92.49s/it]"
     ]
    },
    {
     "name": "stdout",
     "output_type": "stream",
     "text": [
      "Processing image: W33C_10\n"
     ]
    },
    {
     "name": "stderr",
     "output_type": "stream",
     "text": [
      "Processing Images:  53%|█████▎    | 98/184 [2:20:30<2:09:28, 90.33s/it]"
     ]
    },
    {
     "name": "stdout",
     "output_type": "stream",
     "text": [
      "Processing image: W33C_7\n"
     ]
    },
    {
     "name": "stderr",
     "output_type": "stream",
     "text": [
      "Processing Images:  54%|█████▍    | 99/184 [2:22:02<2:08:16, 90.54s/it]"
     ]
    },
    {
     "name": "stdout",
     "output_type": "stream",
     "text": [
      "Processing image: W33C_8\n"
     ]
    },
    {
     "name": "stderr",
     "output_type": "stream",
     "text": [
      "Processing Images:  54%|█████▍    | 100/184 [2:23:27<2:04:47, 89.14s/it]"
     ]
    },
    {
     "name": "stdout",
     "output_type": "stream",
     "text": [
      "Processing image: W33C_9\n"
     ]
    },
    {
     "name": "stderr",
     "output_type": "stream",
     "text": [
      "Processing Images:  55%|█████▍    | 101/184 [2:25:05<2:06:44, 91.62s/it]"
     ]
    },
    {
     "name": "stdout",
     "output_type": "stream",
     "text": [
      "Processing image: W36A_19\n"
     ]
    },
    {
     "name": "stderr",
     "output_type": "stream",
     "text": [
      "Processing Images:  55%|█████▌    | 102/184 [2:26:51<2:11:02, 95.88s/it]"
     ]
    },
    {
     "name": "stdout",
     "output_type": "stream",
     "text": [
      "Processing image: W36A_2\n"
     ]
    },
    {
     "name": "stderr",
     "output_type": "stream",
     "text": [
      "Processing Images:  56%|█████▌    | 103/184 [2:28:22<2:07:46, 94.65s/it]"
     ]
    },
    {
     "name": "stdout",
     "output_type": "stream",
     "text": [
      "Processing image: W36A_20\n"
     ]
    },
    {
     "name": "stderr",
     "output_type": "stream",
     "text": [
      "Processing Images:  57%|█████▋    | 104/184 [2:30:07<2:10:13, 97.66s/it]"
     ]
    },
    {
     "name": "stdout",
     "output_type": "stream",
     "text": [
      "Processing image: W36A_21\n"
     ]
    },
    {
     "name": "stderr",
     "output_type": "stream",
     "text": [
      "Processing Images:  57%|█████▋    | 105/184 [2:31:55<2:12:36, 100.71s/it]"
     ]
    },
    {
     "name": "stdout",
     "output_type": "stream",
     "text": [
      "Processing image: W36A_22\n"
     ]
    },
    {
     "name": "stderr",
     "output_type": "stream",
     "text": [
      "Processing Images:  58%|█████▊    | 106/184 [2:33:39<2:12:21, 101.82s/it]"
     ]
    },
    {
     "name": "stdout",
     "output_type": "stream",
     "text": [
      "Processing image: W36A_23\n"
     ]
    },
    {
     "name": "stderr",
     "output_type": "stream",
     "text": [
      "Processing Images:  58%|█████▊    | 107/184 [2:35:27<2:12:46, 103.46s/it]"
     ]
    },
    {
     "name": "stdout",
     "output_type": "stream",
     "text": [
      "Processing image: W36A_24\n"
     ]
    },
    {
     "name": "stderr",
     "output_type": "stream",
     "text": [
      "Processing Images:  59%|█████▊    | 108/184 [2:37:05<2:09:18, 102.08s/it]"
     ]
    },
    {
     "name": "stdout",
     "output_type": "stream",
     "text": [
      "Processing image: W36A_25\n"
     ]
    },
    {
     "name": "stderr",
     "output_type": "stream",
     "text": [
      "Processing Images:  59%|█████▉    | 109/184 [2:38:57<2:11:13, 104.98s/it]"
     ]
    },
    {
     "name": "stdout",
     "output_type": "stream",
     "text": [
      "Processing image: W36A_3\n"
     ]
    },
    {
     "name": "stderr",
     "output_type": "stream",
     "text": [
      "Processing Images:  60%|█████▉    | 110/184 [2:40:28<2:04:03, 100.59s/it]"
     ]
    },
    {
     "name": "stdout",
     "output_type": "stream",
     "text": [
      "Processing image: W36A_6\n"
     ]
    },
    {
     "name": "stderr",
     "output_type": "stream",
     "text": [
      "Processing Images:  60%|██████    | 111/184 [2:42:14<2:04:21, 102.22s/it]"
     ]
    },
    {
     "name": "stdout",
     "output_type": "stream",
     "text": [
      "Processing image: W36A_7\n"
     ]
    },
    {
     "name": "stderr",
     "output_type": "stream",
     "text": [
      "Processing Images:  61%|██████    | 112/184 [2:43:59<2:03:49, 103.19s/it]"
     ]
    },
    {
     "name": "stdout",
     "output_type": "stream",
     "text": [
      "Processing image: W36A_8\n"
     ]
    },
    {
     "name": "stderr",
     "output_type": "stream",
     "text": [
      "Processing Images:  61%|██████▏   | 113/184 [2:45:24<1:55:41, 97.77s/it] "
     ]
    },
    {
     "name": "stdout",
     "output_type": "stream",
     "text": [
      "Processing image: W36B_1\n"
     ]
    },
    {
     "name": "stderr",
     "output_type": "stream",
     "text": [
      "Processing Images:  62%|██████▏   | 114/184 [2:47:13<1:57:57, 101.10s/it]"
     ]
    },
    {
     "name": "stdout",
     "output_type": "stream",
     "text": [
      "Processing image: W36B_10\n"
     ]
    },
    {
     "name": "stderr",
     "output_type": "stream",
     "text": [
      "Processing Images:  62%|██████▎   | 115/184 [2:49:05<2:00:02, 104.39s/it]"
     ]
    },
    {
     "name": "stdout",
     "output_type": "stream",
     "text": [
      "Processing image: W36B_11\n"
     ]
    },
    {
     "name": "stderr",
     "output_type": "stream",
     "text": [
      "Processing Images:  63%|██████▎   | 116/184 [2:50:53<1:59:35, 105.53s/it]"
     ]
    },
    {
     "name": "stdout",
     "output_type": "stream",
     "text": [
      "Processing image: W36B_12\n"
     ]
    },
    {
     "name": "stderr",
     "output_type": "stream",
     "text": [
      "Processing Images:  64%|██████▎   | 117/184 [2:52:42<1:58:47, 106.37s/it]"
     ]
    },
    {
     "name": "stdout",
     "output_type": "stream",
     "text": [
      "Processing image: W36B_14\n"
     ]
    },
    {
     "name": "stderr",
     "output_type": "stream",
     "text": [
      "Processing Images:  64%|██████▍   | 118/184 [2:54:33<1:58:41, 107.90s/it]"
     ]
    },
    {
     "name": "stdout",
     "output_type": "stream",
     "text": [
      "Processing image: W36B_16\n"
     ]
    },
    {
     "name": "stderr",
     "output_type": "stream",
     "text": [
      "Processing Images:  65%|██████▍   | 119/184 [2:56:18<1:55:51, 106.94s/it]"
     ]
    },
    {
     "name": "stdout",
     "output_type": "stream",
     "text": [
      "Processing image: W36B_17\n"
     ]
    },
    {
     "name": "stderr",
     "output_type": "stream",
     "text": [
      "Processing Images:  65%|██████▌   | 120/184 [2:58:02<1:53:19, 106.24s/it]"
     ]
    },
    {
     "name": "stdout",
     "output_type": "stream",
     "text": [
      "Processing image: W36B_18\n"
     ]
    },
    {
     "name": "stderr",
     "output_type": "stream",
     "text": [
      "Processing Images:  66%|██████▌   | 121/184 [2:59:57<1:54:07, 108.69s/it]"
     ]
    },
    {
     "name": "stdout",
     "output_type": "stream",
     "text": [
      "Processing image: W36B_2\n"
     ]
    },
    {
     "name": "stderr",
     "output_type": "stream",
     "text": [
      "Processing Images:  66%|██████▋   | 122/184 [3:01:44<1:51:50, 108.24s/it]"
     ]
    },
    {
     "name": "stdout",
     "output_type": "stream",
     "text": [
      "Processing image: W45C_16\n"
     ]
    },
    {
     "name": "stderr",
     "output_type": "stream",
     "text": [
      "Processing Images:  67%|██████▋   | 123/184 [3:03:27<1:48:29, 106.72s/it]"
     ]
    },
    {
     "name": "stdout",
     "output_type": "stream",
     "text": [
      "Processing image: W47B_18\n"
     ]
    },
    {
     "name": "stderr",
     "output_type": "stream",
     "text": [
      "Processing Images:  67%|██████▋   | 124/184 [3:05:21<1:48:50, 108.84s/it]"
     ]
    },
    {
     "name": "stdout",
     "output_type": "stream",
     "text": [
      "Processing image: W47B_3\n"
     ]
    },
    {
     "name": "stderr",
     "output_type": "stream",
     "text": [
      "Processing Images:  68%|██████▊   | 125/184 [3:06:51<1:41:35, 103.31s/it]"
     ]
    },
    {
     "name": "stdout",
     "output_type": "stream",
     "text": [
      "Processing image: W47C_1\n"
     ]
    },
    {
     "name": "stderr",
     "output_type": "stream",
     "text": [
      "Processing Images:  68%|██████▊   | 126/184 [3:08:47<1:43:26, 107.01s/it]"
     ]
    },
    {
     "name": "stdout",
     "output_type": "stream",
     "text": [
      "Processing image: W47C_2\n"
     ]
    },
    {
     "name": "stderr",
     "output_type": "stream",
     "text": [
      "Processing Images:  69%|██████▉   | 127/184 [3:10:17<1:36:57, 102.06s/it]"
     ]
    },
    {
     "name": "stdout",
     "output_type": "stream",
     "text": [
      "Processing image: W47C_3\n"
     ]
    },
    {
     "name": "stderr",
     "output_type": "stream",
     "text": [
      "Processing Images:  70%|██████▉   | 128/184 [3:11:06<1:20:21, 86.09s/it] "
     ]
    },
    {
     "name": "stdout",
     "output_type": "stream",
     "text": [
      "Processing image: W47C_6\n"
     ]
    },
    {
     "name": "stderr",
     "output_type": "stream",
     "text": [
      "Processing Images:  70%|███████   | 129/184 [3:12:30<1:18:10, 85.28s/it]"
     ]
    },
    {
     "name": "stdout",
     "output_type": "stream",
     "text": [
      "Processing image: W48C_11\n"
     ]
    },
    {
     "name": "stderr",
     "output_type": "stream",
     "text": [
      "Processing Images:  71%|███████   | 130/184 [3:13:48<1:14:55, 83.26s/it]"
     ]
    },
    {
     "name": "stdout",
     "output_type": "stream",
     "text": [
      "Processing image: W48C_16\n"
     ]
    },
    {
     "name": "stderr",
     "output_type": "stream",
     "text": [
      "Processing Images:  71%|███████   | 131/184 [3:15:22<1:16:27, 86.55s/it]"
     ]
    },
    {
     "name": "stdout",
     "output_type": "stream",
     "text": [
      "Processing image: W48C_22\n"
     ]
    },
    {
     "name": "stderr",
     "output_type": "stream",
     "text": [
      "Processing Images:  72%|███████▏  | 132/184 [3:16:36<1:11:31, 82.52s/it]"
     ]
    },
    {
     "name": "stdout",
     "output_type": "stream",
     "text": [
      "Processing image: W48C_6\n"
     ]
    },
    {
     "name": "stderr",
     "output_type": "stream",
     "text": [
      "Processing Images:  72%|███████▏  | 133/184 [3:17:02<55:52, 65.73s/it]  "
     ]
    },
    {
     "name": "stdout",
     "output_type": "stream",
     "text": [
      "Processing image: W49A_11\n"
     ]
    },
    {
     "name": "stderr",
     "output_type": "stream",
     "text": [
      "Processing Images:  73%|███████▎  | 134/184 [3:18:38<1:02:13, 74.66s/it]"
     ]
    },
    {
     "name": "stdout",
     "output_type": "stream",
     "text": [
      "Processing image: W49A_16\n"
     ]
    },
    {
     "name": "stderr",
     "output_type": "stream",
     "text": [
      "Processing Images:  73%|███████▎  | 135/184 [3:20:20<1:07:42, 82.90s/it]"
     ]
    },
    {
     "name": "stdout",
     "output_type": "stream",
     "text": [
      "Processing image: W49A_2\n"
     ]
    },
    {
     "name": "stderr",
     "output_type": "stream",
     "text": [
      "Processing Images:  74%|███████▍  | 136/184 [3:21:43<1:06:22, 82.97s/it]"
     ]
    },
    {
     "name": "stdout",
     "output_type": "stream",
     "text": [
      "Processing image: W50D_25\n"
     ]
    },
    {
     "name": "stderr",
     "output_type": "stream",
     "text": [
      "Processing Images:  74%|███████▍  | 137/184 [3:23:31<1:10:49, 90.41s/it]"
     ]
    },
    {
     "name": "stdout",
     "output_type": "stream",
     "text": [
      "Processing image: W50D_4\n"
     ]
    },
    {
     "name": "stderr",
     "output_type": "stream",
     "text": [
      "Processing Images:  75%|███████▌  | 138/184 [3:25:02<1:09:27, 90.59s/it]"
     ]
    },
    {
     "name": "stdout",
     "output_type": "stream",
     "text": [
      "Processing image: W50D_5\n"
     ]
    },
    {
     "name": "stderr",
     "output_type": "stream",
     "text": [
      "Processing Images:  76%|███████▌  | 139/184 [3:26:40<1:09:39, 92.88s/it]"
     ]
    },
    {
     "name": "stdout",
     "output_type": "stream",
     "text": [
      "Processing image: W52D_25\n"
     ]
    },
    {
     "name": "stderr",
     "output_type": "stream",
     "text": [
      "Processing Images:  76%|███████▌  | 140/184 [3:28:25<1:10:49, 96.58s/it]"
     ]
    },
    {
     "name": "stdout",
     "output_type": "stream",
     "text": [
      "Processing image: W53B_14\n"
     ]
    },
    {
     "name": "stderr",
     "output_type": "stream",
     "text": [
      "Processing Images:  77%|███████▋  | 141/184 [3:29:59<1:08:39, 95.80s/it]"
     ]
    },
    {
     "name": "stdout",
     "output_type": "stream",
     "text": [
      "Processing image: W53B_18\n"
     ]
    },
    {
     "name": "stderr",
     "output_type": "stream",
     "text": [
      "Processing Images:  77%|███████▋  | 142/184 [3:30:22<51:48, 74.02s/it]  "
     ]
    },
    {
     "name": "stdout",
     "output_type": "stream",
     "text": [
      "Processing image: W53B_19\n"
     ]
    },
    {
     "name": "stderr",
     "output_type": "stream",
     "text": [
      "Processing Images:  78%|███████▊  | 143/184 [3:32:12<57:49, 84.61s/it]"
     ]
    },
    {
     "name": "stdout",
     "output_type": "stream",
     "text": [
      "Processing image: W53B_20\n"
     ]
    },
    {
     "name": "stderr",
     "output_type": "stream",
     "text": [
      "Processing Images:  78%|███████▊  | 144/184 [3:33:55<1:00:05, 90.13s/it]"
     ]
    },
    {
     "name": "stdout",
     "output_type": "stream",
     "text": [
      "Processing image: W53B_23\n"
     ]
    },
    {
     "name": "stderr",
     "output_type": "stream",
     "text": [
      "Processing Images:  79%|███████▉  | 145/184 [3:34:49<51:38, 79.46s/it]  "
     ]
    },
    {
     "name": "stdout",
     "output_type": "stream",
     "text": [
      "Processing image: W53B_24\n"
     ]
    },
    {
     "name": "stderr",
     "output_type": "stream",
     "text": [
      "Processing Images:  79%|███████▉  | 146/184 [3:36:50<58:08, 91.80s/it]"
     ]
    },
    {
     "name": "stdout",
     "output_type": "stream",
     "text": [
      "Processing image: W57A_17\n"
     ]
    },
    {
     "name": "stderr",
     "output_type": "stream",
     "text": [
      "Processing Images:  80%|███████▉  | 147/184 [3:38:41<1:00:16, 97.74s/it]"
     ]
    },
    {
     "name": "stdout",
     "output_type": "stream",
     "text": [
      "Processing image: W57A_18\n"
     ]
    },
    {
     "name": "stderr",
     "output_type": "stream",
     "text": [
      "Processing Images:  80%|████████  | 148/184 [3:40:23<59:15, 98.77s/it]  "
     ]
    },
    {
     "name": "stdout",
     "output_type": "stream",
     "text": [
      "Processing image: W57A_19\n"
     ]
    },
    {
     "name": "stderr",
     "output_type": "stream",
     "text": [
      "Processing Images:  81%|████████  | 149/184 [3:42:04<58:01, 99.48s/it]"
     ]
    },
    {
     "name": "stdout",
     "output_type": "stream",
     "text": [
      "Processing image: W57A_21\n"
     ]
    },
    {
     "name": "stderr",
     "output_type": "stream",
     "text": [
      "Processing Images:  82%|████████▏ | 150/184 [3:43:40<55:46, 98.44s/it]"
     ]
    },
    {
     "name": "stdout",
     "output_type": "stream",
     "text": [
      "Processing image: W57A_22\n"
     ]
    },
    {
     "name": "stderr",
     "output_type": "stream",
     "text": [
      "Processing Images:  82%|████████▏ | 151/184 [3:45:34<56:45, 103.20s/it]"
     ]
    },
    {
     "name": "stdout",
     "output_type": "stream",
     "text": [
      "Processing image: W57A_23\n"
     ]
    },
    {
     "name": "stderr",
     "output_type": "stream",
     "text": [
      "Processing Images:  83%|████████▎ | 152/184 [3:47:20<55:27, 104.00s/it]"
     ]
    },
    {
     "name": "stdout",
     "output_type": "stream",
     "text": [
      "Processing image: W57A_24\n"
     ]
    },
    {
     "name": "stderr",
     "output_type": "stream",
     "text": [
      "Processing Images:  83%|████████▎ | 153/184 [3:49:12<54:58, 106.39s/it]"
     ]
    },
    {
     "name": "stdout",
     "output_type": "stream",
     "text": [
      "Processing image: W57A_25\n"
     ]
    },
    {
     "name": "stderr",
     "output_type": "stream",
     "text": [
      "Processing Images:  84%|████████▎ | 154/184 [3:50:51<52:02, 104.09s/it]"
     ]
    },
    {
     "name": "stdout",
     "output_type": "stream",
     "text": [
      "Processing image: W57B_10\n"
     ]
    },
    {
     "name": "stderr",
     "output_type": "stream",
     "text": [
      "Processing Images:  84%|████████▍ | 155/184 [3:52:40<51:09, 105.83s/it]"
     ]
    },
    {
     "name": "stdout",
     "output_type": "stream",
     "text": [
      "Processing image: W57B_12\n"
     ]
    },
    {
     "name": "stderr",
     "output_type": "stream",
     "text": [
      "Processing Images:  85%|████████▍ | 156/184 [3:54:31<50:02, 107.22s/it]"
     ]
    },
    {
     "name": "stdout",
     "output_type": "stream",
     "text": [
      "Processing image: W57B_13\n"
     ]
    },
    {
     "name": "stderr",
     "output_type": "stream",
     "text": [
      "Processing Images:  85%|████████▌ | 157/184 [3:56:26<49:21, 109.68s/it]"
     ]
    },
    {
     "name": "stdout",
     "output_type": "stream",
     "text": [
      "Processing image: W57B_14\n"
     ]
    },
    {
     "name": "stderr",
     "output_type": "stream",
     "text": [
      "Processing Images:  86%|████████▌ | 158/184 [3:58:09<46:33, 107.45s/it]"
     ]
    },
    {
     "name": "stdout",
     "output_type": "stream",
     "text": [
      "Processing image: W57B_15\n"
     ]
    },
    {
     "name": "stderr",
     "output_type": "stream",
     "text": [
      "Processing Images:  86%|████████▋ | 159/184 [3:59:55<44:38, 107.16s/it]"
     ]
    },
    {
     "name": "stdout",
     "output_type": "stream",
     "text": [
      "Processing image: W57B_18\n"
     ]
    },
    {
     "name": "stderr",
     "output_type": "stream",
     "text": [
      "Processing Images:  87%|████████▋ | 160/184 [4:01:53<44:06, 110.26s/it]"
     ]
    },
    {
     "name": "stdout",
     "output_type": "stream",
     "text": [
      "Processing image: W57B_19\n"
     ]
    },
    {
     "name": "stderr",
     "output_type": "stream",
     "text": [
      "Processing Images:  88%|████████▊ | 161/184 [4:03:47<42:46, 111.59s/it]"
     ]
    },
    {
     "name": "stdout",
     "output_type": "stream",
     "text": [
      "Processing image: W57B_2\n"
     ]
    },
    {
     "name": "stderr",
     "output_type": "stream",
     "text": [
      "Processing Images:  88%|████████▊ | 162/184 [4:05:25<39:24, 107.46s/it]"
     ]
    },
    {
     "name": "stdout",
     "output_type": "stream",
     "text": [
      "Processing image: W57B_20\n"
     ]
    },
    {
     "name": "stderr",
     "output_type": "stream",
     "text": [
      "Processing Images:  89%|████████▊ | 163/184 [4:07:15<37:53, 108.27s/it]"
     ]
    },
    {
     "name": "stdout",
     "output_type": "stream",
     "text": [
      "Processing image: W57B_3\n"
     ]
    },
    {
     "name": "stderr",
     "output_type": "stream",
     "text": [
      "Processing Images:  89%|████████▉ | 164/184 [4:08:59<35:38, 106.90s/it]"
     ]
    },
    {
     "name": "stdout",
     "output_type": "stream",
     "text": [
      "Processing image: W57B_4\n"
     ]
    },
    {
     "name": "stderr",
     "output_type": "stream",
     "text": [
      "Processing Images:  90%|████████▉ | 165/184 [4:10:54<34:35, 109.23s/it]"
     ]
    },
    {
     "name": "stdout",
     "output_type": "stream",
     "text": [
      "Processing image: W57B_5\n"
     ]
    },
    {
     "name": "stderr",
     "output_type": "stream",
     "text": [
      "Processing Images:  90%|█████████ | 166/184 [4:12:32<31:47, 105.95s/it]"
     ]
    },
    {
     "name": "stdout",
     "output_type": "stream",
     "text": [
      "Processing image: W57B_6\n"
     ]
    },
    {
     "name": "stderr",
     "output_type": "stream",
     "text": [
      "Processing Images:  91%|█████████ | 167/184 [4:14:30<31:02, 109.59s/it]"
     ]
    },
    {
     "name": "stdout",
     "output_type": "stream",
     "text": [
      "Processing image: W57B_7\n"
     ]
    },
    {
     "name": "stderr",
     "output_type": "stream",
     "text": [
      "Processing Images:  91%|█████████▏| 168/184 [4:16:20<29:15, 109.73s/it]"
     ]
    },
    {
     "name": "stdout",
     "output_type": "stream",
     "text": [
      "Processing image: W57B_8\n"
     ]
    },
    {
     "name": "stderr",
     "output_type": "stream",
     "text": [
      "Processing Images:  92%|█████████▏| 169/184 [4:18:06<27:06, 108.46s/it]"
     ]
    },
    {
     "name": "stdout",
     "output_type": "stream",
     "text": [
      "Processing image: W57B_9\n"
     ]
    },
    {
     "name": "stderr",
     "output_type": "stream",
     "text": [
      "Processing Images:  92%|█████████▏| 170/184 [4:19:46<24:45, 106.08s/it]"
     ]
    },
    {
     "name": "stdout",
     "output_type": "stream",
     "text": [
      "Processing image: W57C_10\n"
     ]
    },
    {
     "name": "stderr",
     "output_type": "stream",
     "text": [
      "Processing Images:  93%|█████████▎| 171/184 [4:21:28<22:41, 104.72s/it]"
     ]
    },
    {
     "name": "stdout",
     "output_type": "stream",
     "text": [
      "Processing image: W57C_12\n"
     ]
    },
    {
     "name": "stderr",
     "output_type": "stream",
     "text": [
      "Processing Images:  93%|█████████▎| 172/184 [4:23:13<20:58, 104.91s/it]"
     ]
    },
    {
     "name": "stdout",
     "output_type": "stream",
     "text": [
      "Processing image: W57C_17\n"
     ]
    },
    {
     "name": "stderr",
     "output_type": "stream",
     "text": [
      "Processing Images:  94%|█████████▍| 173/184 [4:24:49<18:44, 102.25s/it]"
     ]
    },
    {
     "name": "stdout",
     "output_type": "stream",
     "text": [
      "Processing image: W57C_2\n"
     ]
    },
    {
     "name": "stderr",
     "output_type": "stream",
     "text": [
      "Processing Images:  95%|█████████▍| 174/184 [4:26:38<17:21, 104.12s/it]"
     ]
    },
    {
     "name": "stdout",
     "output_type": "stream",
     "text": [
      "Processing image: W57C_21\n"
     ]
    },
    {
     "name": "stderr",
     "output_type": "stream",
     "text": [
      "Processing Images:  95%|█████████▌| 175/184 [4:28:23<15:41, 104.65s/it]"
     ]
    },
    {
     "name": "stdout",
     "output_type": "stream",
     "text": [
      "Processing image: W57C_22\n"
     ]
    },
    {
     "name": "stderr",
     "output_type": "stream",
     "text": [
      "Processing Images:  96%|█████████▌| 176/184 [4:30:07<13:55, 104.40s/it]"
     ]
    },
    {
     "name": "stdout",
     "output_type": "stream",
     "text": [
      "Processing image: W57C_23\n"
     ]
    },
    {
     "name": "stderr",
     "output_type": "stream",
     "text": [
      "Processing Images:  96%|█████████▌| 177/184 [4:32:04<12:36, 108.12s/it]"
     ]
    },
    {
     "name": "stdout",
     "output_type": "stream",
     "text": [
      "Processing image: W57C_24\n"
     ]
    },
    {
     "name": "stderr",
     "output_type": "stream",
     "text": [
      "Processing Images:  97%|█████████▋| 178/184 [4:33:51<10:47, 107.90s/it]"
     ]
    },
    {
     "name": "stdout",
     "output_type": "stream",
     "text": [
      "Processing image: W57C_25\n"
     ]
    },
    {
     "name": "stderr",
     "output_type": "stream",
     "text": [
      "Processing Images:  97%|█████████▋| 179/184 [4:35:35<08:53, 106.70s/it]"
     ]
    },
    {
     "name": "stdout",
     "output_type": "stream",
     "text": [
      "Processing image: W57C_3\n"
     ]
    },
    {
     "name": "stderr",
     "output_type": "stream",
     "text": [
      "Processing Images:  98%|█████████▊| 180/184 [4:37:21<07:05, 106.47s/it]"
     ]
    },
    {
     "name": "stdout",
     "output_type": "stream",
     "text": [
      "Processing image: W57C_4\n"
     ]
    },
    {
     "name": "stderr",
     "output_type": "stream",
     "text": [
      "Processing Images:  98%|█████████▊| 181/184 [4:39:10<05:21, 107.13s/it]"
     ]
    },
    {
     "name": "stdout",
     "output_type": "stream",
     "text": [
      "Processing image: W57C_5\n"
     ]
    },
    {
     "name": "stderr",
     "output_type": "stream",
     "text": [
      "Processing Images:  99%|█████████▉| 182/184 [4:40:57<03:34, 107.10s/it]"
     ]
    },
    {
     "name": "stdout",
     "output_type": "stream",
     "text": [
      "Processing image: W57C_8\n"
     ]
    },
    {
     "name": "stderr",
     "output_type": "stream",
     "text": [
      "Processing Images:  99%|█████████▉| 183/184 [4:42:40<01:45, 105.91s/it]"
     ]
    },
    {
     "name": "stdout",
     "output_type": "stream",
     "text": [
      "Processing image: W57C_9\n"
     ]
    },
    {
     "name": "stderr",
     "output_type": "stream",
     "text": [
      "Processing Images: 100%|██████████| 184/184 [4:44:31<00:00, 92.78s/it] \n"
     ]
    }
   ],
   "source": [
    "# This cell will run for a while. It calculates the pixel metrics of each polygon.\n",
    "annotations = annotations[annotations['image_name'].notnull()]\n",
    "\n",
    "def calculate_pixel_metrics_grouped(group, image_base_path):\n",
    "    metrics = []\n",
    "    for _, row in group.iterrows():\n",
    "        geotiff_path = image_base_path + row['image_name'] + \".tif\"\n",
    "        try:\n",
    "            with rasterio.open(geotiff_path) as src:\n",
    "                transform = src.transform\n",
    "                metric = calculate_pixel_metrics_dynamic(row, transform)\n",
    "                metrics.append(metric)\n",
    "        except FileNotFoundError:\n",
    "            print(f\"GeoTIFF not found: {geotiff_path}\")\n",
    "            metrics.append(None)\n",
    "    \n",
    "    return pd.DataFrame(metrics, index=group.index)\n",
    "\n",
    "def calculate_pixel_metrics_dynamic(row, transform):\n",
    "    polygon = shape(row['geometry'])\n",
    "    centroid = polygon.centroid\n",
    "\n",
    "    centroid_pixel_row, centroid_pixel_col = rowcol(transform, centroid.x, centroid.y)\n",
    "\n",
    "    pixel_vertices = [\n",
    "        rowcol(transform, vertex[0], vertex[1]) for vertex in polygon.exterior.coords\n",
    "    ]\n",
    "\n",
    "    pixel_polygon = shape({\n",
    "        'type': 'Polygon',\n",
    "        'coordinates': [[(c, r) for r, c in pixel_vertices]]\n",
    "    })\n",
    "    pixel_area = pixel_polygon.area\n",
    "\n",
    "    return {\n",
    "        'polygon_vertices_pixels': pixel_vertices,\n",
    "        'centroid_latitude_pixels': centroid_pixel_row,\n",
    "        'centroid_longitude_pixels': centroid_pixel_col,\n",
    "        'area_pixels': pixel_area\n",
    "    }\n",
    "\n",
    "# Group the annotations by image_name\n",
    "grouped_annotations = annotations.groupby('image_name')\n",
    "\n",
    "image_base_path = r\"C:\\Users\\AICHA\\Box\\Cape Town Energy Transitions Bass Connections\\Class Materials 2024-2025\\Aerial Imagery\\AP2023_TIFFs_Bass\\2023_RGB_8cm_\"\n",
    "pixel_metrics_list = []\n",
    "\n",
    "for name, group in tqdm(grouped_annotations, desc=\"Processing Images\"):\n",
    "    print(f\"Processing image: {name}\")\n",
    "    metrics = calculate_pixel_metrics_grouped(group, image_base_path)\n",
    "    pixel_metrics_list.append(metrics)\n",
    "\n",
    "# Concatenate all metrics into a single DataFrame\n",
    "pixel_metrics_df = pd.concat(pixel_metrics_list)\n",
    "\n",
    "# Assign each metric to its respective column in the annotations DataFrame\n",
    "annotations = annotations.join(pixel_metrics_df)"
   ]
  },
  {
   "cell_type": "code",
   "execution_count": null,
   "metadata": {},
   "outputs": [],
   "source": [
    "# Check the order of the columns of the annotations dataframe and replace them here\n",
    "annotations.columns = ['id', 'annotator', 'area', 'centroid_latitude', 'centroid_longitude',\n",
    "       'image_name', 'nw_corner_of_image_latitude',\n",
    "       'nw_corner_of_image_longitude', 'se_corner_of_image_latitude',\n",
    "       'se_corner_of_image_longitude', 'polygon_vertices_pixels',\n",
    "       'centroid_latitude_pixels', 'centroid_longitude_pixels', 'area_pixels',\n",
    "       'geometry']\n",
    "\n",
    "# Save the final dataframe. Now we are ready to create the image-mask pairs\n",
    "annotations.to_file(r\"C:\\Users\\AICHA\\Box\\Cape Town Energy Transitions Bass Connections\\Class Materials 2024-2025\\Teams\\Team 1 Machine learning\\CT - MachineLearning\\S1 Machine Learning\\annotations_final_feb.geojson\")"
   ]
  },
  {
   "cell_type": "markdown",
   "metadata": {},
   "source": [
    "Some necessary data manipulation of the annotations dataframe's polygon_vertices_pixels column before creating image mask pairs."
   ]
  },
  {
   "cell_type": "code",
   "execution_count": 105,
   "metadata": {},
   "outputs": [
    {
     "name": "stdout",
     "output_type": "stream",
     "text": [
      "0        [[9495, 80], [9522, 139], [9575, 118], [9545, ...\n",
      "1        [[11249, 8089], [11302, 8178], [11313, 8172], ...\n",
      "2        [[11267, 8079], [11321, 8168], [11333, 8160], ...\n",
      "3        [[11287, 8067], [11341, 8155], [11351, 8147], ...\n",
      "4        [[11345, 8073], [11332, 8081], [11367, 8137], ...\n",
      "                               ...                        \n",
      "11303    [[6492, 3431], [6500, 3479], [6523, 3474], [65...\n",
      "11304    [[8268, 1976], [8264, 1990], [8280, 1996], [82...\n",
      "11305    [[7834, 2180], [7825, 2200], [7854, 2211], [78...\n",
      "11306    [[4246, 3691], [4249, 3728], [4265, 3727], [42...\n",
      "11307    [[1411, 4225], [1411, 4239], [1437, 4239], [14...\n",
      "Name: polygon_vertices_pixels, Length: 11308, dtype: object\n"
     ]
    }
   ],
   "source": [
    "df = annotations.copy()\n",
    "\n",
    "# Clean the strings to remove np.int32 calls and fix any incomplete strings\n",
    "df['polygon_vertices_pixels'] = df['polygon_vertices_pixels'].apply(\n",
    "    lambda x: re.sub(r'np\\.int32\\((\\d+)\\)', r'\\1', x)\n",
    ")\n",
    "\n",
    "# Replace parentheses with square brackets\n",
    "df['polygon_vertices_pixels'] = df['polygon_vertices_pixels'].apply(\n",
    "    lambda x: re.sub(r'\\((\\d+), (\\d+)\\)', r'[\\1, \\2]', x)\n",
    ")\n",
    "\n",
    "# Ensure all tuples are properly closed\n",
    "def fix_incomplete_tuples(polygon_str):\n",
    "    # Find all tuples\n",
    "    tuples = re.findall(r'\\[\\d+, \\d+\\]', polygon_str)\n",
    "    # Join them back into a string\n",
    "    fixed_str = '[' + ', '.join(tuples) + ']'\n",
    "    return fixed_str\n",
    "\n",
    "df['polygon_vertices_pixels'] = df['polygon_vertices_pixels'].apply(fix_incomplete_tuples)\n",
    "\n",
    "# Convert the string representation of lists back to actual lists\n",
    "df['polygon_vertices_pixels'] = df['polygon_vertices_pixels'].apply(\n",
    "    lambda x: ast.literal_eval(x)\n",
    ")\n",
    "\n",
    "print(df['polygon_vertices_pixels'])"
   ]
  },
  {
   "cell_type": "code",
   "execution_count": 106,
   "metadata": {},
   "outputs": [],
   "source": [
    "annotations = df"
   ]
  },
  {
   "cell_type": "markdown",
   "metadata": {},
   "source": [
    "Now that the dataframe is ready, we can finally create the image mask pairs. Below are the functions we use to do so"
   ]
  },
  {
   "cell_type": "code",
   "execution_count": null,
   "metadata": {},
   "outputs": [],
   "source": [
    "def create_mask(image_shape, polygons):\n",
    "    mask = np.zeros(image_shape[:2], dtype=\"uint8\")\n",
    "    for polygon in polygons:\n",
    "        cv2.fillPoly(mask, [polygon], 255)\n",
    "    flipped_mask = cv2.flip(mask, 0)\n",
    "    rotated_mask = cv2.rotate(flipped_mask, cv2.ROTATE_90_CLOCKWISE)\n",
    "    return rotated_mask\n",
    "\n",
    "def save_tile_and_mask(tile, mask, tile_index_pixels, tile_dir, mask_dir, image_name):\n",
    "    tile_filename = os.path.join(tile_dir, f'i_{image_name}_{tile_index_pixels}.png')\n",
    "    mask_filename = os.path.join(mask_dir, f'm_{image_name}_{tile_index_pixels}.png')\n",
    "    cv2.imwrite(tile_filename, cv2.cvtColor(tile, cv2.COLOR_RGB2BGR))\n",
    "    cv2.imwrite(mask_filename, mask)\n",
    "\n",
    "def adjust_polygon_coordinates(polygons, x_offset, y_offset):\n",
    "    adjusted_polygons = []\n",
    "    for polygon in polygons:\n",
    "        adjusted_polygon = polygon - np.array([x_offset, y_offset])\n",
    "        adjusted_polygons.append(adjusted_polygon)\n",
    "    return adjusted_polygons\n",
    "\n",
    "def process_geotiff(image_name, geotiff_path, tile_size, df, tile_dir, mask_dir):\n",
    "    with rasterio.open(geotiff_path) as src:\n",
    "        geotiff_array = src.read()\n",
    "\n",
    "        if len(geotiff_array.shape) == 3:\n",
    "            geotiff_array = np.transpose(geotiff_array, (1, 2, 0))\n",
    "\n",
    "        height, width = geotiff_array.shape[:2]\n",
    "\n",
    "        # Calculate padding\n",
    "        pad_height = (tile_size - height % tile_size) % tile_size\n",
    "        pad_width = (tile_size - width % tile_size) % tile_size\n",
    "\n",
    "        # Add padding to the image\n",
    "        padded_image = np.pad(geotiff_array, ((0, pad_height), (0, pad_width), (0, 0)), mode='constant')\n",
    "\n",
    "        padded_height, padded_width = padded_image.shape[:2]\n",
    "\n",
    "        tile_index = 0\n",
    "        for y in range(0, padded_height, tile_size):\n",
    "            for x in range(0, padded_width, tile_size):\n",
    "                tile = padded_image[y:y+tile_size, x:x+tile_size]\n",
    "\n",
    "                polygons_in_tile = []\n",
    "                for _, row in df.iterrows():\n",
    "                    polygon = row['polygon_vertices_pixels']\n",
    "                    \n",
    "                    bounds = {\n",
    "                        'left': x,\n",
    "                        'right': x+tile_size,\n",
    "                        'bottom': y+tile_size,\n",
    "                        'top': y\n",
    "                    }\n",
    "                    \n",
    "                    if (bounds['left'] <= row['centroid_longitude_pixels'] <= bounds['right'] and bounds['top'] <= row['centroid_latitude_pixels'] <= bounds['bottom']):\n",
    "                        polygons_in_tile.append(polygon)\n",
    "                    \n",
    "                adjusted_polygons = adjust_polygon_coordinates(polygons_in_tile, y, x)\n",
    "\n",
    "                mask = create_mask(tile.shape, adjusted_polygons)\n",
    "                \n",
    "                # save only the masks and tiles that contain annotations\n",
    "                if np.any(mask > 0):\n",
    "                    tile_index_pixels = str(int(y/tile_size)) + \"_\" + str(int(x/tile_size))\n",
    "                    save_tile_and_mask(tile, mask, tile_index_pixels, tile_dir, mask_dir, image_name)\n",
    "                \n",
    "                tile_index += 1\n",
    "\n",
    "\n",
    "def process_all_images_in_folder(folder_path, annotations_df, tile_size, tile_dir, mask_dir, processed_images_list):\n",
    "    unique_images = annotations_df['image_name'].unique()\n",
    "    idx = 0\n",
    "    for image_name in unique_images:\n",
    "        image_path = folder_path + image_name + \".tif\"\n",
    "        \n",
    "        if os.path.exists(image_path):\n",
    "            print(image_name)\n",
    "            print(idx)\n",
    "            idx += 1\n",
    "            processed_images_list.append(image_name)\n",
    "            \n",
    "            image_annotations_df = annotations_df[annotations_df['image_name'] == image_name]\n",
    "            process_geotiff(image_name, image_path, tile_size, image_annotations_df, tile_dir, mask_dir)\n"
   ]
  },
  {
   "cell_type": "code",
   "execution_count": null,
   "metadata": {},
   "outputs": [
    {
     "name": "stdout",
     "output_type": "stream",
     "text": [
      "W16C_21\n",
      "W16D_17\n",
      "W18B_8\n",
      "W18B_9\n",
      "W48C_11\n",
      "W57C_21\n",
      "W57C_17\n",
      "W57C_24\n",
      "W57B_10\n",
      "W36A_2\n",
      "W57B_5\n",
      "W57B_13\n",
      "W57B_14\n",
      "W45C_16\n",
      "W25A_3\n",
      "W57C_25\n",
      "W57C_23\n",
      "W57C_8\n",
      "W57C_9\n",
      "W57C_12\n",
      "W57A_18\n",
      "W57A_19\n",
      "W57A_23\n",
      "W57A_24\n",
      "W57A_22\n",
      "W57C_10\n",
      "W57C_3\n",
      "W57C_4\n",
      "W57C_2\n",
      "W57A_21\n",
      "W47C_1\n",
      "W36A_8\n",
      "W36A_3\n",
      "W16C_22\n",
      "W25A_6\n",
      "W18B_5\n",
      "W47C_2\n",
      "W57A_25\n",
      "W57C_5\n",
      "W25C_12\n",
      "W25C_13\n",
      "W25C_11\n",
      "W47C_6\n",
      "W57B_12\n",
      "W16D_25\n",
      "W16D_24\n",
      "W07C_10\n",
      "W07C_11\n",
      "W07C_12\n",
      "W07C_13\n",
      "W07C_16\n",
      "W07C_17\n",
      "W07C_2\n",
      "W07C_21\n",
      "W07C_22\n",
      "W07C_23\n",
      "W07C_3\n",
      "W07C_4\n",
      "W07C_5\n",
      "W07C_6\n",
      "W07C_7\n",
      "W07C_8\n",
      "W07C_9\n",
      "W07D_1\n",
      "W07D_6\n",
      "W08A_1\n",
      "W08A_12\n",
      "W08A_2\n",
      "W08B_4\n",
      "W08B_9\n",
      "W12A_17\n",
      "W12A_21\n",
      "W12A_22\n",
      "W12A_23\n",
      "W12C_11\n",
      "W12C_12\n",
      "W12C_16\n",
      "W12C_4\n",
      "W12C_6\n",
      "W13C_11\n",
      "W13C_13\n",
      "W13C_16\n",
      "W13C_18\n",
      "W13C_22\n",
      "W13C_8\n",
      "W14A_11\n",
      "W14A_12\n",
      "W14A_21\n",
      "W16C_14\n",
      "W16C_15\n",
      "W16C_17\n",
      "W16C_18\n",
      "W16C_19\n",
      "W16C_20\n",
      "W16D_12\n",
      "W16D_16\n",
      "W16D_21\n",
      "W16D_22\n",
      "W16D_23\n",
      "W16D_7\n",
      "W17B_11\n",
      "W33A_9\n",
      "W33A_10\n",
      "W33A_18\n",
      "W33B_2\n",
      "W33C_7\n",
      "W33C_8\n",
      "W33C_9\n",
      "W33C_10\n",
      "W57A_17\n",
      "W57B_2\n",
      "W57B_3\n",
      "W57B_4\n",
      "W57B_6\n",
      "W57B_7\n",
      "W57B_8\n",
      "W57B_9\n",
      "W57B_18\n",
      "W57B_19\n",
      "W57B_20\n",
      "W57B_15\n",
      "W57C_22\n",
      "W48C_6\n",
      "W48C_16\n",
      "W48C_22\n",
      "W49A_11\n",
      "W49A_2\n",
      "W49A_16\n",
      "W50D_4\n",
      "W50D_5\n",
      "W50D_25\n",
      "W47C_3\n",
      "W47B_18\n",
      "W47B_3\n",
      "W12A_24\n",
      "W18C_4\n",
      "W18D_21\n",
      "W18D_22\n",
      "W19B_2\n",
      "W22D_22\n",
      "W23A_13\n",
      "W23A_14\n",
      "W07A_1\n",
      "W07A_24\n",
      "W52D_25\n",
      "W53B_14\n",
      "W53B_18\n",
      "W53B_19\n",
      "W53B_20\n",
      "W53B_23\n",
      "W53B_24\n",
      "W25A_4\n",
      "W25A_5\n",
      "W25A_7\n",
      "W25A_8\n",
      "W25A_9\n",
      "W25B_1\n",
      "W25B_12\n",
      "W25B_16\n",
      "W25B_17\n",
      "W25B_2\n",
      "W25B_21\n",
      "W25B_6\n",
      "W25B_7\n",
      "W25C_1\n",
      "W17B_2\n",
      "W36A_19\n",
      "W36A_20\n",
      "W36A_21\n",
      "W36A_22\n",
      "W36A_23\n",
      "W36A_24\n",
      "W36A_25\n",
      "W36A_6\n",
      "W36A_7\n",
      "W36B_10\n",
      "W36B_1\n",
      "W36B_11\n",
      "W36B_12\n",
      "W36B_14\n",
      "W36B_16\n",
      "W36B_17\n",
      "W36B_18\n",
      "W36B_2\n"
     ]
    }
   ],
   "source": [
    "# path where you want to save the tiles\n",
    "tile_dir = r'C:\\Users\\AICHA\\Box\\Cape Town Energy Transitions Bass Connections\\Class Materials 2024-2025\\Teams\\Team 1 Machine learning\\CT - MachineLearning\\S1 Machine Learning\\dataset\\tiles_320'\n",
    "# path where you want to save the images\n",
    "mask_dir = r'C:\\Users\\AICHA\\Box\\Cape Town Energy Transitions Bass Connections\\Class Materials 2024-2025\\Teams\\Team 1 Machine learning\\CT - MachineLearning\\S1 Machine Learning\\dataset\\masks_320'\n",
    "os.makedirs(tile_dir, exist_ok=True)\n",
    "os.makedirs(mask_dir, exist_ok=True)\n",
    "\n",
    "# path where the original images are saved\n",
    "dataset_path = r\"C:\\Users\\AICHA\\Box\\Cape Town Energy Transitions Bass Connections\\Class Materials 2024-2025\\Aerial Imagery\\AP2023_TIFFs_Bass\\2023_RGB_8cm_\"\n",
    "\n",
    "# Choose the tile size of your new dataset\n",
    "tile_size = 320 \n",
    "\n",
    "# The names of the processed images will be printed to monitor the progress\n",
    "processed_images_list = []\n",
    "process_all_images_in_folder(dataset_path, annotations, tile_size=320, tile_dir=tile_dir, mask_dir=mask_dir, processed_images_list=processed_images_list)"
   ]
  },
  {
   "cell_type": "markdown",
   "metadata": {},
   "source": [
    "There are a lot of images that don't contain any solar panel. To avoid wasting training resources, we'll only select the images that contain the panels to work with (it may still be useful to train the model with the images that don't contain any panels to increase model robustness)"
   ]
  },
  {
   "cell_type": "code",
   "execution_count": null,
   "metadata": {},
   "outputs": [],
   "source": [
    "# Organizing the folders locally -> copy the masks and tiles to the destination folders\n",
    "\n",
    "# copy the masks that contain the target to a seperate folder\n",
    "def check_mask_has_target(mask_path):\n",
    "    mask = cv2.imread(mask_path, cv2.IMREAD_GRAYSCALE)\n",
    "    return np.any(mask > 0)\n",
    "\n",
    "def copy_masks_with_target(source_folder, destination_folder):\n",
    "    os.makedirs(destination_folder, exist_ok=True)\n",
    "    \n",
    "    for filename in os.listdir(source_folder):\n",
    "        file_path = os.path.join(source_folder, filename)\n",
    "        \n",
    "        if check_mask_has_target(file_path):\n",
    "            shutil.copy(file_path, destination_folder)\n",
    "            print(f\"Copied {filename} to {destination_folder}\")\n",
    "            \n",
    "# copy the corresponding images to a new folder\n",
    "def copy_corresponding_images(mask_folder, image_folder, destination_folder):\n",
    "    os.makedirs(destination_folder, exist_ok=True)\n",
    "    \n",
    "    for mask_filename in os.listdir(mask_folder):\n",
    "        image_filename = 'i' + mask_filename[1:]\n",
    "        image_path = os.path.join(image_folder, image_filename)\n",
    "        \n",
    "        if os.path.exists(image_path):\n",
    "            shutil.copy(image_path, destination_folder)\n",
    "            print(f\"Copied {image_filename} to {destination_folder}\")\n",
    "\n"
   ]
  },
  {
   "cell_type": "code",
   "execution_count": null,
   "metadata": {},
   "outputs": [],
   "source": [
    "source_folder = '/home/as1233/data/cape_town/masks'\n",
    "destination_folder = '/home/as1233/data/cape_town/masks_target'\n",
    "\n",
    "copy_masks_with_target(source_folder, destination_folder)\n",
    "\n",
    "mask_folder = '/home/as1233/data/cape_town/masks_target'\n",
    "image_folder = '/home/as1233/data/cape_town/tiles'\n",
    "destination_folder = '/home/as1233/data/cape_town/images_target'\n",
    "\n",
    "copy_corresponding_images(mask_folder, image_folder, destination_folder)"
   ]
  },
  {
   "cell_type": "code",
   "execution_count": null,
   "metadata": {},
   "outputs": [],
   "source": [
    "# split the dataset into train, test, and val datasets\n",
    "\n",
    "def split_data(mask_folder, image_folder, train_folder, val_folder, test_folder, train_ratio=0.7, val_ratio=0.15, test_ratio=0.15):\n",
    "    os.makedirs(os.path.join(train_folder, 'images'), exist_ok=True)\n",
    "    os.makedirs(os.path.join(train_folder, 'masks'), exist_ok=True)\n",
    "    os.makedirs(os.path.join(val_folder, 'images'), exist_ok=True)\n",
    "    os.makedirs(os.path.join(val_folder, 'masks'), exist_ok=True)\n",
    "    os.makedirs(os.path.join(test_folder, 'images'), exist_ok=True)\n",
    "    os.makedirs(os.path.join(test_folder, 'masks'), exist_ok=True)\n",
    "    \n",
    "    mask_files = os.listdir(mask_folder)\n",
    "    \n",
    "    random.shuffle(mask_files)\n",
    "    \n",
    "    total_files = len(mask_files)\n",
    "    train_count = int(total_files * train_ratio)\n",
    "    val_count = int(total_files * val_ratio)\n",
    "    test_count = total_files - train_count - val_count\n",
    "    \n",
    "    train_files = mask_files[:train_count]\n",
    "    val_files = mask_files[train_count:train_count + val_count]\n",
    "    test_files = mask_files[train_count + val_count:]\n",
    "    \n",
    "    def copy_files(file_list, dest_image_folder, dest_mask_folder):\n",
    "        for mask_filename in file_list:\n",
    "            shutil.copy(os.path.join(mask_folder, mask_filename), dest_mask_folder)\n",
    "            \n",
    "            image_filename = 'i' + mask_filename[1:]\n",
    "            shutil.copy(os.path.join(image_folder, image_filename), dest_image_folder)\n",
    "    \n",
    "    copy_files(train_files, os.path.join(train_folder, 'images'), os.path.join(train_folder, 'masks'))\n",
    "    copy_files(val_files, os.path.join(val_folder, 'images'), os.path.join(val_folder, 'masks'))\n",
    "    copy_files(test_files, os.path.join(test_folder, 'images'), os.path.join(test_folder, 'masks'))\n",
    "\n",
    "mask_folder = '/home/as1233/data/cape_town/masks_target'\n",
    "image_folder = '/home/as1233/data/cape_town/images_target'\n",
    "train_folder = '/home/as1233/data/cape_town/train'\n",
    "val_folder = '/home/as1233/data/cape_town/val'\n",
    "test_folder = '/home/as1233/data/cape_town/test'\n",
    "\n",
    "split_data(mask_folder, image_folder, train_folder, val_folder, test_folder)"
   ]
  }
 ],
 "metadata": {
  "kernelspec": {
   "display_name": "solar",
   "language": "python",
   "name": "python3"
  },
  "language_info": {
   "codemirror_mode": {
    "name": "ipython",
    "version": 3
   },
   "file_extension": ".py",
   "mimetype": "text/x-python",
   "name": "python",
   "nbconvert_exporter": "python",
   "pygments_lexer": "ipython3",
   "version": "3.13.0"
  }
 },
 "nbformat": 4,
 "nbformat_minor": 2
}
